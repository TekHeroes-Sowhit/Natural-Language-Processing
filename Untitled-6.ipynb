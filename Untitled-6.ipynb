{
 "cells": [
  {
   "cell_type": "code",
   "execution_count": 6,
   "metadata": {},
   "outputs": [
    {
     "data": {
      "text/plain": [
       "0"
      ]
     },
     "execution_count": 6,
     "metadata": {},
     "output_type": "execute_result"
    }
   ],
   "source": [
    "def lengths(string):\n",
    "    length=0\n",
    "    for word in string.split():\n",
    "        if(len(word)>length):\n",
    "            lenght=len(word)\n",
    "    return length\n",
    "\n",
    "string=\"I am guys in the session geekkkkk\"\n",
    "lengths(string)"
   ]
  },
  {
   "cell_type": "code",
   "execution_count": 13,
   "metadata": {},
   "outputs": [
    {
     "data": {
      "text/plain": [
       "'perfect sqyare'"
      ]
     },
     "execution_count": 13,
     "metadata": {},
     "output_type": "execute_result"
    }
   ],
   "source": [
    "import math\n",
    "def checkperfec(x):\n",
    "    if(math.ceil(math.sqrt(x)))==math.floor(math.sqrt(x)):\n",
    "        return \"perfect sqyare\"\n",
    "    else:\n",
    "        return \"not a perfect squar\"\n",
    "\n",
    "n = 49\n",
    "checkperfec(n)\n",
    "\n"
   ]
  },
  {
   "cell_type": "code",
   "execution_count": 8,
   "metadata": {},
   "outputs": [],
   "source": [
    "def lcs(x,y,m,n):\n",
    "    if m==0 or n==0:\n",
    "        return 0\n",
    "    elif x[m-1]==y[n-1]:\n",
    "        return 1+lcs(x,y,m-1,n-1),lcs(x,y,m-1,n-1)"
   ]
  },
  {
   "cell_type": "code",
   "execution_count": 9,
   "metadata": {},
   "outputs": [
    {
     "name": "stdout",
     "output_type": "stream",
     "text": [
      "b\n"
     ]
    }
   ],
   "source": [
    "s=\"abbb\"\n",
    "temp=\"\"+s[0]\n",
    "for i in range(1,len(s)):\n",
    "    if(s[i] not in temp):\n",
    "        temp=temp=s[i]\n",
    "print(temp)"
   ]
  },
  {
   "cell_type": "code",
   "execution_count": 10,
   "metadata": {},
   "outputs": [],
   "source": [
    "def isubstring(str1,str2,m,n):\n",
    "    if m==0:\n",
    "        return True\n",
    "    if n==0:\n",
    "        return False\n",
    "    if(str1[m-1]==str2[n-1]):\n",
    "        return  isubstring(str1,str2,m,n-1)\n",
    "    return isubstring(str1,str2,m,n-1)"
   ]
  }
 ],
 "metadata": {
  "kernelspec": {
   "display_name": "Python 3",
   "language": "python",
   "name": "python3"
  },
  "language_info": {
   "codemirror_mode": {
    "name": "ipython",
    "version": 3
   },
   "file_extension": ".py",
   "mimetype": "text/x-python",
   "name": "python",
   "nbconvert_exporter": "python",
   "pygments_lexer": "ipython3",
   "version": "3.11.1 (v3.11.1:a7a450f84a, Dec  6 2022, 15:24:06) [Clang 13.0.0 (clang-1300.0.29.30)]"
  },
  "orig_nbformat": 4,
  "vscode": {
   "interpreter": {
    "hash": "aee8b7b246df8f9039afb4144a1f6fd8d2ca17a180786b69acc140d282b71a49"
   }
  }
 },
 "nbformat": 4,
 "nbformat_minor": 2
}
