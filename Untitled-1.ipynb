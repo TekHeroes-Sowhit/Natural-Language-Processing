{
 "cells": [
  {
   "cell_type": "code",
   "execution_count": 7,
   "metadata": {},
   "outputs": [],
   "source": [
    "import scipy"
   ]
  },
  {
   "cell_type": "code",
   "execution_count": 5,
   "metadata": {},
   "outputs": [
    {
     "name": "stdout",
     "output_type": "stream",
     "text": [
      "Requirement already satisfied: scipy in /Library/Frameworks/Python.framework/Versions/3.11/lib/python3.11/site-packages (1.10.0)\n",
      "Requirement already satisfied: numpy<1.27.0,>=1.19.5 in /Library/Frameworks/Python.framework/Versions/3.11/lib/python3.11/site-packages (from scipy) (1.24.1)\n"
     ]
    }
   ],
   "source": [
    "!pip install scipy"
   ]
  },
  {
   "cell_type": "code",
   "execution_count": 11,
   "metadata": {},
   "outputs": [],
   "source": [
    "##lingal\n",
    "from scipy.stats import norm\n",
    "import numpy as np"
   ]
  },
  {
   "cell_type": "code",
   "execution_count": 13,
   "metadata": {},
   "outputs": [
    {
     "data": {
      "text/plain": [
       "array([0.9986501 , 0.99996833, 0.99999971])"
      ]
     },
     "execution_count": 13,
     "metadata": {},
     "output_type": "execute_result"
    }
   ],
   "source": [
    "norm.cdf(np.array([3,4,5]))"
   ]
  },
  {
   "cell_type": "code",
   "execution_count": null,
   "metadata": {},
   "outputs": [],
   "source": [
    "### odd data\n",
    "price\n",
    "-----\n",
    "$ 50\n",
    "$ 25\n",
    "$ 2\n",
    "$ 3\n",
    "$ 4"
   ]
  },
  {
   "cell_type": "code",
   "execution_count": null,
   "metadata": {},
   "outputs": [],
   "source": []
  },
  {
   "cell_type": "code",
   "execution_count": null,
   "metadata": {},
   "outputs": [],
   "source": [
    "## Kurtosis: "
   ]
  },
  {
   "cell_type": "code",
   "execution_count": null,
   "metadata": {},
   "outputs": [],
   "source": [
    "Kurtosis=u4/sigma power(4)"
   ]
  },
  {
   "cell_type": "code",
   "execution_count": null,
   "metadata": {},
   "outputs": [],
   "source": [
    "u4: central moment\n",
    "sigma power(4): standa deviation"
   ]
  },
  {
   "cell_type": "code",
   "execution_count": 14,
   "metadata": {},
   "outputs": [],
   "source": [
    "import scipy as sp\n",
    "from scipy.stats import norm"
   ]
  },
  {
   "cell_type": "code",
   "execution_count": 16,
   "metadata": {},
   "outputs": [
    {
     "name": "stdout",
     "output_type": "stream",
     "text": [
      "[-1.03070190e+00  5.05251438e-01 -6.21668249e-02 -1.53287229e+00\n",
      " -8.28638658e-01 -4.35645005e-01  4.19688798e-01  4.61692310e-01\n",
      " -1.23078563e+00  2.28549241e+00  8.13100241e-01  1.34869423e-01\n",
      " -1.08492924e+00 -1.40066211e+00  8.55913087e-01  1.74225321e+00\n",
      " -5.92325994e-01  3.86290086e-01 -1.07882535e+00  3.15526458e-01\n",
      " -1.47507258e+00  3.38571280e-02 -1.15168529e+00  6.96164028e-01\n",
      "  2.21425787e-01 -1.38597086e+00  1.11399512e+00  1.39870479e+00\n",
      "  3.21250568e-01 -1.47068839e+00  7.42235268e-02  4.13155127e-01\n",
      " -9.86279658e-02  9.00632714e-02 -3.88638942e-01 -1.16826349e+00\n",
      "  9.55199406e-02  6.56876610e-01 -1.72305625e+00  1.12752317e+00\n",
      " -4.05558199e-02  5.91904386e-04 -1.42519410e+00  2.61713209e+00\n",
      " -3.11449668e-01 -4.04771478e-01 -2.60278640e-01 -3.09951461e-01\n",
      "  2.17558298e-01  6.46279671e-01 -1.79897366e+00  3.84019804e-01\n",
      " -6.72552924e-01 -1.06176948e+00  5.47712341e-01 -9.02117711e-01\n",
      "  7.04777451e-01 -3.09923738e-01  3.25574179e-01  2.03462592e-01\n",
      "  2.12481073e+00  8.71666083e-01 -1.45379146e+00 -5.42115418e-02\n",
      "  1.05705252e+00  7.10626715e-01 -7.55744876e-01 -1.46196888e+00\n",
      "  1.58044201e+00  7.28422478e-01  8.21173902e-02  1.13429216e+00\n",
      "  1.03796799e+00 -6.64364227e-01  1.72139837e+00 -3.71266591e-01\n",
      "  6.33507439e-01  1.14272815e+00 -7.74633932e-01  5.10006188e-01\n",
      "  4.51917514e-01  1.12700354e+00 -2.46168100e+00 -3.28195722e-01\n",
      "  1.36043238e+00  2.71568111e-01 -1.26641737e+00  3.72935815e-01\n",
      " -1.41403900e+00 -4.65961989e-01  1.10671073e+00  1.70936816e+00\n",
      " -2.32596924e-01 -3.89365924e-01 -7.81282400e-01  1.55776702e+00\n",
      "  9.16857278e-02 -1.60016919e+00  1.70550507e-02 -2.03380556e-01]\n"
     ]
    },
    {
     "name": "stderr",
     "output_type": "stream",
     "text": [
      "/var/folders/4d/qzyzh9sn67s40hwf3gmf9w380000gn/T/ipykernel_92259/218776928.py:2: DeprecationWarning: scipy.randn is deprecated and will be removed in SciPy 2.0.0, use numpy.random.randn instead\n",
      "  randomoness=sp.randn(data)\n"
     ]
    }
   ],
   "source": [
    "data=100\n",
    "randomoness=sp.randn(data)\n",
    "print(randomoness)"
   ]
  },
  {
   "cell_type": "code",
   "execution_count": 17,
   "metadata": {},
   "outputs": [
    {
     "data": {
      "text/plain": [
       "DescribeResult(nobs=100, minmax=(-2.4616810043622848, 2.617132085650735), mean=0.008952601097048039, variance=1.0320746625035693, skewness=0.07648181457247057, kurtosis=-0.3702939085350594)"
      ]
     },
     "execution_count": 17,
     "metadata": {},
     "output_type": "execute_result"
    }
   ],
   "source": [
    "sp.stats.describe(randomoness)"
   ]
  },
  {
   "cell_type": "code",
   "execution_count": 20,
   "metadata": {},
   "outputs": [
    {
     "data": {
      "text/plain": [
       "-2.4616810043622848"
      ]
     },
     "execution_count": 20,
     "metadata": {},
     "output_type": "execute_result"
    }
   ],
   "source": [
    "randomoness.max()\n",
    "randomoness.min()\n"
   ]
  },
  {
   "cell_type": "code",
   "execution_count": 24,
   "metadata": {},
   "outputs": [
    {
     "name": "stdout",
     "output_type": "stream",
     "text": [
      "TtestResult(statistic=-1.3893008458629108, pvalue=0.23708033864719852, df=4)\n"
     ]
    }
   ],
   "source": [
    "from scipy import stats\n",
    "rvs=stats.norm.rvs(loc=5,scale=10,size=(5))\n",
    "print(stats.ttest_1samp(rvs,5.0))"
   ]
  },
  {
   "cell_type": "code",
   "execution_count": 28,
   "metadata": {},
   "outputs": [
    {
     "name": "stdout",
     "output_type": "stream",
     "text": [
      "[[2.00725777 1.94103546 2.03745999]]\n"
     ]
    }
   ],
   "source": [
    "from numpy import vstack,array\n",
    "from numpy.random import rand\n",
    "from scipy.cluster.vq import kmeans,vq,whiten\n",
    "data1=vstack((rand(100,3)+array([.5,.5,.5]),rand(100,3)))\n",
    "data2=whiten(data1)\n",
    "centroids,_=kmeans(data2,1,3)\n",
    "print(centroids)"
   ]
  },
  {
   "cell_type": "code",
   "execution_count": null,
   "metadata": {},
   "outputs": [],
   "source": [
    "Pname\n",
    "----\n",
    "Wheat\n",
    "rice\n",
    "flour\n",
    "oil\n",
    "sugar"
   ]
  },
  {
   "cell_type": "code",
   "execution_count": null,
   "metadata": {},
   "outputs": [],
   "source": [
    "df.corr()"
   ]
  },
  {
   "cell_type": "code",
   "execution_count": 29,
   "metadata": {},
   "outputs": [],
   "source": [
    "y=mx+b\n",
    "m slope:\n"
   ]
  },
  {
   "cell_type": "code",
   "execution_count": 30,
   "metadata": {},
   "outputs": [
    {
     "data": {
      "text/plain": [
       "1"
      ]
     },
     "execution_count": 30,
     "metadata": {},
     "output_type": "execute_result"
    }
   ],
   "source": [
    "import statistics\n",
    "a=np.array([1,1,1,1,1,2,2,2])\n",
    "statistics.mode(a)"
   ]
  },
  {
   "cell_type": "code",
   "execution_count": null,
   "metadata": {},
   "outputs": [],
   "source": []
  },
  {
   "cell_type": "code",
   "execution_count": null,
   "metadata": {},
   "outputs": [],
   "source": []
  },
  {
   "cell_type": "code",
   "execution_count": null,
   "metadata": {},
   "outputs": [],
   "source": [
    "Regularization techqniuqes\n",
    "--------------------------\n",
    "L1 and L2 \n"
   ]
  },
  {
   "cell_type": "code",
   "execution_count": null,
   "metadata": {},
   "outputs": [],
   "source": [
    "anova: \n",
    " z test:\n",
    " t test:\n",
    " p test:\n",
    " corelation: \n",
    " chisquare: \n",
    " covariance: \n",
    " median and mode:"
   ]
  }
 ],
 "metadata": {
  "kernelspec": {
   "display_name": "Python 3",
   "language": "python",
   "name": "python3"
  },
  "language_info": {
   "codemirror_mode": {
    "name": "ipython",
    "version": 3
   },
   "file_extension": ".py",
   "mimetype": "text/x-python",
   "name": "python",
   "nbconvert_exporter": "python",
   "pygments_lexer": "ipython3",
   "version": "3.11.1"
  },
  "orig_nbformat": 4,
  "vscode": {
   "interpreter": {
    "hash": "aee8b7b246df8f9039afb4144a1f6fd8d2ca17a180786b69acc140d282b71a49"
   }
  }
 },
 "nbformat": 4,
 "nbformat_minor": 2
}
