{
 "cells": [
  {
   "cell_type": "code",
   "execution_count": null,
   "metadata": {},
   "outputs": [],
   "source": [
    "import math"
   ]
  },
  {
   "cell_type": "code",
   "execution_count": 2,
   "metadata": {},
   "outputs": [],
   "source": [
    "class Node:\n",
    "    def __init__(self,data):\n",
    "        self.data=data\n",
    "        self.next=None\n",
    "    \n",
    "    def push(head_ref,new_data):\n",
    "        new_node=Node(new_node)\n",
    "        new_node.data=new_data\n",
    "        new_node.next=head_ref\n",
    "        head_ref=new_node\n",
    "        return head_ref\n",
    "    def display(head):\n",
    "        current=head\n",
    "        while(current!=None):\n",
    "            print(current.data)\n",
    "            current=current.next\n",
    "    def removeduplicates(head):\n",
    "        track={}\n",
    "        temp=head\n",
    "        while(temp!=None):\n",
    "            if(not temp.data in track):\n",
    "                print(temp.data)\n",
    "             track[temp.data] = True;\n",
    "             temp = temp.next;"
   ]
  },
  {
   "cell_type": "code",
   "execution_count": 4,
   "metadata": {},
   "outputs": [
    {
     "name": "stdout",
     "output_type": "stream",
     "text": [
      "hdlll wrooe\n"
     ]
    }
   ],
   "source": [
    "def isvowel(c):\n",
    "    return (c=='a' or c=='e' or c=='i' or c=='o' or c=='u')\n",
    "\n",
    "def reverse(str):\n",
    "    i=0\n",
    "    j=len(str)-1\n",
    "    while(i<j):\n",
    "        if not isvowel(str[i]):\n",
    "            i+=1\n",
    "            continue\n",
    "        if (not isvowel(str[i])):\n",
    "            j-=1\n",
    "            continue\n",
    "        str[i],str[j]=str[j],str[i]\n",
    "        i+=1\n",
    "        j-=1\n",
    "    return str\n",
    "if __name__ == \"__main__\":\n",
    "    str = \"hello world\"\n",
    "    print(*reverse(list(str)), sep = \"\")"
   ]
  }
 ],
 "metadata": {
  "kernelspec": {
   "display_name": "Python 3",
   "language": "python",
   "name": "python3"
  },
  "language_info": {
   "codemirror_mode": {
    "name": "ipython",
    "version": 3
   },
   "file_extension": ".py",
   "mimetype": "text/x-python",
   "name": "python",
   "nbconvert_exporter": "python",
   "pygments_lexer": "ipython3",
   "version": "3.11.1"
  },
  "orig_nbformat": 4,
  "vscode": {
   "interpreter": {
    "hash": "aee8b7b246df8f9039afb4144a1f6fd8d2ca17a180786b69acc140d282b71a49"
   }
  }
 },
 "nbformat": 4,
 "nbformat_minor": 2
}
