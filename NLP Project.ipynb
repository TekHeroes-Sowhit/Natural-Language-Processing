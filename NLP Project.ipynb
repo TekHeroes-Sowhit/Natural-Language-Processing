{
 "cells": [
  {
   "cell_type": "code",
   "execution_count": 22,
   "metadata": {},
   "outputs": [
    {
     "name": "stdout",
     "output_type": "stream",
     "text": [
      "Collecting gutenberg\n"
     ]
    },
    {
     "name": "stderr",
     "output_type": "stream",
     "text": [
      "    ERROR: Command errored out with exit status 1:\n",
      "     command: 'c:\\Users\\00824732\\Anaconda3\\python.exe' -c 'import io, os, sys, setuptools, tokenize; sys.argv[0] = '\"'\"'C:\\\\Users\\\\00824732\\\\AppData\\\\Local\\\\Temp\\\\pip-install-28w3s1dy\\\\bsddb3_0299f98538f24cf1a10b39ab692d19a3\\\\setup.py'\"'\"'; __file__='\"'\"'C:\\\\Users\\\\00824732\\\\AppData\\\\Local\\\\Temp\\\\pip-install-28w3s1dy\\\\bsddb3_0299f98538f24cf1a10b39ab692d19a3\\\\setup.py'\"'\"';f = getattr(tokenize, '\"'\"'open'\"'\"', open)(__file__) if os.path.exists(__file__) else io.StringIO('\"'\"'from setuptools import setup; setup()'\"'\"');code = f.read().replace('\"'\"'\\r\\n'\"'\"', '\"'\"'\\n'\"'\"');f.close();exec(compile(code, __file__, '\"'\"'exec'\"'\"'))' egg_info --egg-base 'C:\\Users\\00824732\\AppData\\Local\\Temp\\pip-pip-egg-info-9qafnzup'\n",
      "         cwd: C:\\Users\\00824732\\AppData\\Local\\Temp\\pip-install-28w3s1dy\\bsddb3_0299f98538f24cf1a10b39ab692d19a3\\\n",
      "    Complete output (7 lines):\n",
      "    Traceback (most recent call last):\n",
      "      File \"<string>\", line 1, in <module>\n",
      "      File \"C:\\Users\\00824732\\AppData\\Local\\Temp\\pip-install-28w3s1dy\\bsddb3_0299f98538f24cf1a10b39ab692d19a3\\setup.py\", line 42, in <module>\n",
      "        import setup3\n",
      "      File \"C:\\Users\\00824732\\AppData\\Local\\Temp\\pip-install-28w3s1dy\\bsddb3_0299f98538f24cf1a10b39ab692d19a3\\setup3.py\", line 385, in <module>\n",
      "        with open(os.path.join(incdir, 'db.h'), 'r') as f :\n",
      "    FileNotFoundError: [Errno 2] No such file or directory: 'db/include\\\\db.h'\n",
      "    ----------------------------------------\n",
      "WARNING: Discarding https://files.pythonhosted.org/packages/f0/24/92034482656945fc6ceb10551222b43a0ff8d0c87e15839120487820067e/bsddb3-6.2.9.tar.gz#sha256=70d05ec8dc568f42e70fc919a442e0daadc2a905a1cfb7ca77f549d49d6e7801 (from https://pypi.org/simple/bsddb3/). Command errored out with exit status 1: python setup.py egg_info Check the logs for full command output.\n",
      "    ERROR: Command errored out with exit status 1:\n",
      "     command: 'c:\\Users\\00824732\\Anaconda3\\python.exe' -c 'import io, os, sys, setuptools, tokenize; sys.argv[0] = '\"'\"'C:\\\\Users\\\\00824732\\\\AppData\\\\Local\\\\Temp\\\\pip-install-28w3s1dy\\\\bsddb3_64e39408a9424a699b9867a5ae00aad1\\\\setup.py'\"'\"'; __file__='\"'\"'C:\\\\Users\\\\00824732\\\\AppData\\\\Local\\\\Temp\\\\pip-install-28w3s1dy\\\\bsddb3_64e39408a9424a699b9867a5ae00aad1\\\\setup.py'\"'\"';f = getattr(tokenize, '\"'\"'open'\"'\"', open)(__file__) if os.path.exists(__file__) else io.StringIO('\"'\"'from setuptools import setup; setup()'\"'\"');code = f.read().replace('\"'\"'\\r\\n'\"'\"', '\"'\"'\\n'\"'\"');f.close();exec(compile(code, __file__, '\"'\"'exec'\"'\"'))' egg_info --egg-base 'C:\\Users\\00824732\\AppData\\Local\\Temp\\pip-pip-egg-info-l50s3ian'\n",
      "         cwd: C:\\Users\\00824732\\AppData\\Local\\Temp\\pip-install-28w3s1dy\\bsddb3_64e39408a9424a699b9867a5ae00aad1\\\n",
      "    Complete output (7 lines):\n",
      "    Traceback (most recent call last):\n",
      "      File \"<string>\", line 1, in <module>\n",
      "      File \"C:\\Users\\00824732\\AppData\\Local\\Temp\\pip-install-28w3s1dy\\bsddb3_64e39408a9424a699b9867a5ae00aad1\\setup.py\", line 42, in <module>\n",
      "        import setup3\n",
      "      File \"C:\\Users\\00824732\\AppData\\Local\\Temp\\pip-install-28w3s1dy\\bsddb3_64e39408a9424a699b9867a5ae00aad1\\setup3.py\", line 385, in <module>\n",
      "        with open(os.path.join(incdir, 'db.h'), 'r') as f :\n",
      "    FileNotFoundError: [Errno 2] No such file or directory: 'db/include\\\\db.h'\n",
      "    ----------------------------------------\n",
      "WARNING: Discarding https://files.pythonhosted.org/packages/fa/ad/eb82bcccbfb076b6a6797f48c339460699103065fb2a2fc72403b16970fe/bsddb3-6.2.7.tar.gz#sha256=b0f7fa63eb240cd5815809c9d1d7df9f7cc8d6fa9619d0edbe9c794afc02dc9f (from https://pypi.org/simple/bsddb3/). Command errored out with exit status 1: python setup.py egg_info Check the logs for full command output.\n",
      "    ERROR: Command errored out with exit status 1:\n",
      "     command: 'c:\\Users\\00824732\\Anaconda3\\python.exe' -c 'import io, os, sys, setuptools, tokenize; sys.argv[0] = '\"'\"'C:\\\\Users\\\\00824732\\\\AppData\\\\Local\\\\Temp\\\\pip-install-28w3s1dy\\\\bsddb3_fc69412d0c314be082f01f6bd435d6cf\\\\setup.py'\"'\"'; __file__='\"'\"'C:\\\\Users\\\\00824732\\\\AppData\\\\Local\\\\Temp\\\\pip-install-28w3s1dy\\\\bsddb3_fc69412d0c314be082f01f6bd435d6cf\\\\setup.py'\"'\"';f = getattr(tokenize, '\"'\"'open'\"'\"', open)(__file__) if os.path.exists(__file__) else io.StringIO('\"'\"'from setuptools import setup; setup()'\"'\"');code = f.read().replace('\"'\"'\\r\\n'\"'\"', '\"'\"'\\n'\"'\"');f.close();exec(compile(code, __file__, '\"'\"'exec'\"'\"'))' egg_info --egg-base 'C:\\Users\\00824732\\AppData\\Local\\Temp\\pip-pip-egg-info-5y0rm96x'\n",
      "         cwd: C:\\Users\\00824732\\AppData\\Local\\Temp\\pip-install-28w3s1dy\\bsddb3_fc69412d0c314be082f01f6bd435d6cf\\\n",
      "    Complete output (7 lines):\n",
      "    Traceback (most recent call last):\n",
      "      File \"<string>\", line 1, in <module>\n",
      "      File \"C:\\Users\\00824732\\AppData\\Local\\Temp\\pip-install-28w3s1dy\\bsddb3_fc69412d0c314be082f01f6bd435d6cf\\setup.py\", line 42, in <module>\n",
      "        import setup3\n",
      "      File \"C:\\Users\\00824732\\AppData\\Local\\Temp\\pip-install-28w3s1dy\\bsddb3_fc69412d0c314be082f01f6bd435d6cf\\setup3.py\", line 385, in <module>\n",
      "        with open(os.path.join(incdir, 'db.h'), 'r') as f :\n",
      "    FileNotFoundError: [Errno 2] No such file or directory: 'db/include\\\\db.h'\n",
      "    ----------------------------------------\n",
      "WARNING: Discarding https://files.pythonhosted.org/packages/e9/fc/ebfbd4de236b493f9ece156f816c21df0ae87ccc22604c5f9b664efef1b9/bsddb3-6.2.6.tar.gz#sha256=42d621f4037425afcb16b67d5600c4556271a071a9a7f7f2c2b1ba65bc582d05 (from https://pypi.org/simple/bsddb3/). Command errored out with exit status 1: python setup.py egg_info Check the logs for full command output.\n",
      "    ERROR: Command errored out with exit status 1:\n",
      "     command: 'c:\\Users\\00824732\\Anaconda3\\python.exe' -c 'import io, os, sys, setuptools, tokenize; sys.argv[0] = '\"'\"'C:\\\\Users\\\\00824732\\\\AppData\\\\Local\\\\Temp\\\\pip-install-28w3s1dy\\\\bsddb3_2deaba88b36b44fb8cbbe8b10985fdef\\\\setup.py'\"'\"'; __file__='\"'\"'C:\\\\Users\\\\00824732\\\\AppData\\\\Local\\\\Temp\\\\pip-install-28w3s1dy\\\\bsddb3_2deaba88b36b44fb8cbbe8b10985fdef\\\\setup.py'\"'\"';f = getattr(tokenize, '\"'\"'open'\"'\"', open)(__file__) if os.path.exists(__file__) else io.StringIO('\"'\"'from setuptools import setup; setup()'\"'\"');code = f.read().replace('\"'\"'\\r\\n'\"'\"', '\"'\"'\\n'\"'\"');f.close();exec(compile(code, __file__, '\"'\"'exec'\"'\"'))' egg_info --egg-base 'C:\\Users\\00824732\\AppData\\Local\\Temp\\pip-pip-egg-info-k737bcja'\n",
      "         cwd: C:\\Users\\00824732\\AppData\\Local\\Temp\\pip-install-28w3s1dy\\bsddb3_2deaba88b36b44fb8cbbe8b10985fdef\\\n",
      "    Complete output (7 lines):\n",
      "    Traceback (most recent call last):\n",
      "      File \"<string>\", line 1, in <module>\n",
      "      File \"C:\\Users\\00824732\\AppData\\Local\\Temp\\pip-install-28w3s1dy\\bsddb3_2deaba88b36b44fb8cbbe8b10985fdef\\setup.py\", line 42, in <module>\n",
      "        import setup3\n",
      "      File \"C:\\Users\\00824732\\AppData\\Local\\Temp\\pip-install-28w3s1dy\\bsddb3_2deaba88b36b44fb8cbbe8b10985fdef\\setup3.py\", line 382, in <module>\n",
      "        with open(os.path.join(incdir, 'db.h'), 'r') as f :\n",
      "    FileNotFoundError: [Errno 2] No such file or directory: 'db/include\\\\db.h'\n",
      "    ----------------------------------------\n",
      "WARNING: Discarding https://files.pythonhosted.org/packages/ba/a7/131dfd4e3a5002ef30e20bee679d5e6bcb2fcc6af21bd5079dc1707a132c/bsddb3-6.2.5.tar.gz#sha256=784bf40ad935258507594a89b32ea11f362cde120751c8b96de163955ced7db8 (from https://pypi.org/simple/bsddb3/). Command errored out with exit status 1: python setup.py egg_info Check the logs for full command output.\n",
      "    ERROR: Command errored out with exit status 1:\n",
      "     command: 'c:\\Users\\00824732\\Anaconda3\\python.exe' -c 'import io, os, sys, setuptools, tokenize; sys.argv[0] = '\"'\"'C:\\\\Users\\\\00824732\\\\AppData\\\\Local\\\\Temp\\\\pip-install-28w3s1dy\\\\bsddb3_a79c867153e141078dfa6a8afca030f0\\\\setup.py'\"'\"'; __file__='\"'\"'C:\\\\Users\\\\00824732\\\\AppData\\\\Local\\\\Temp\\\\pip-install-28w3s1dy\\\\bsddb3_a79c867153e141078dfa6a8afca030f0\\\\setup.py'\"'\"';f = getattr(tokenize, '\"'\"'open'\"'\"', open)(__file__) if os.path.exists(__file__) else io.StringIO('\"'\"'from setuptools import setup; setup()'\"'\"');code = f.read().replace('\"'\"'\\r\\n'\"'\"', '\"'\"'\\n'\"'\"');f.close();exec(compile(code, __file__, '\"'\"'exec'\"'\"'))' egg_info --egg-base 'C:\\Users\\00824732\\AppData\\Local\\Temp\\pip-pip-egg-info-ifjvtbqm'\n",
      "         cwd: C:\\Users\\00824732\\AppData\\Local\\Temp\\pip-install-28w3s1dy\\bsddb3_a79c867153e141078dfa6a8afca030f0\\\n",
      "    Complete output (7 lines):\n",
      "    Traceback (most recent call last):\n",
      "      File \"<string>\", line 1, in <module>\n",
      "      File \"C:\\Users\\00824732\\AppData\\Local\\Temp\\pip-install-28w3s1dy\\bsddb3_a79c867153e141078dfa6a8afca030f0\\setup.py\", line 42, in <module>\n",
      "        import setup3\n",
      "      File \"C:\\Users\\00824732\\AppData\\Local\\Temp\\pip-install-28w3s1dy\\bsddb3_a79c867153e141078dfa6a8afca030f0\\setup3.py\", line 382, in <module>\n",
      "        with open(os.path.join(incdir, 'db.h'), 'r') as f :\n",
      "    FileNotFoundError: [Errno 2] No such file or directory: 'db/include\\\\db.h'\n",
      "    ----------------------------------------\n",
      "WARNING: Discarding https://files.pythonhosted.org/packages/8d/9b/c3b01ff14e19254b2e031d8ae5ebe472e5523a47acc6f7d49300960d406d/bsddb3-6.2.4.tar.gz#sha256=4866aa32ad6ec6d5ff401d9aec8da07c4e84502298dc27f7c758545e243550e6 (from https://pypi.org/simple/bsddb3/). Command errored out with exit status 1: python setup.py egg_info Check the logs for full command output.\n",
      "    ERROR: Command errored out with exit status 1:\n",
      "     command: 'c:\\Users\\00824732\\Anaconda3\\python.exe' -c 'import io, os, sys, setuptools, tokenize; sys.argv[0] = '\"'\"'C:\\\\Users\\\\00824732\\\\AppData\\\\Local\\\\Temp\\\\pip-install-28w3s1dy\\\\bsddb3_b502e44848664b5c84fde239503dd5e0\\\\setup.py'\"'\"'; __file__='\"'\"'C:\\\\Users\\\\00824732\\\\AppData\\\\Local\\\\Temp\\\\pip-install-28w3s1dy\\\\bsddb3_b502e44848664b5c84fde239503dd5e0\\\\setup.py'\"'\"';f = getattr(tokenize, '\"'\"'open'\"'\"', open)(__file__) if os.path.exists(__file__) else io.StringIO('\"'\"'from setuptools import setup; setup()'\"'\"');code = f.read().replace('\"'\"'\\r\\n'\"'\"', '\"'\"'\\n'\"'\"');f.close();exec(compile(code, __file__, '\"'\"'exec'\"'\"'))' egg_info --egg-base 'C:\\Users\\00824732\\AppData\\Local\\Temp\\pip-pip-egg-info-ioqsg81h'\n",
      "         cwd: C:\\Users\\00824732\\AppData\\Local\\Temp\\pip-install-28w3s1dy\\bsddb3_b502e44848664b5c84fde239503dd5e0\\\n",
      "    Complete output (7 lines):\n",
      "    Traceback (most recent call last):\n",
      "      File \"<string>\", line 1, in <module>\n",
      "      File \"C:\\Users\\00824732\\AppData\\Local\\Temp\\pip-install-28w3s1dy\\bsddb3_b502e44848664b5c84fde239503dd5e0\\setup.py\", line 42, in <module>\n",
      "        import setup3\n",
      "      File \"C:\\Users\\00824732\\AppData\\Local\\Temp\\pip-install-28w3s1dy\\bsddb3_b502e44848664b5c84fde239503dd5e0\\setup3.py\", line 382, in <module>\n",
      "        with open(os.path.join(incdir, 'db.h'), 'r') as f :\n",
      "    FileNotFoundError: [Errno 2] No such file or directory: 'db/include\\\\db.h'\n",
      "    ----------------------------------------\n",
      "WARNING: Discarding https://files.pythonhosted.org/packages/04/22/5e7151ce2774300d821d14c6f2254cee3da72a50468f5089311d41621c7e/bsddb3-6.2.3.tar.gz#sha256=b5454d631949d83674651020331dbed8c8b8288225139bb005dac3aea940c989 (from https://pypi.org/simple/bsddb3/). Command errored out with exit status 1: python setup.py egg_info Check the logs for full command output.\n",
      "    ERROR: Command errored out with exit status 1:\n",
      "     command: 'c:\\Users\\00824732\\Anaconda3\\python.exe' -c 'import io, os, sys, setuptools, tokenize; sys.argv[0] = '\"'\"'C:\\\\Users\\\\00824732\\\\AppData\\\\Local\\\\Temp\\\\pip-install-28w3s1dy\\\\bsddb3_a147c613c7934a0ca9536825102857db\\\\setup.py'\"'\"'; __file__='\"'\"'C:\\\\Users\\\\00824732\\\\AppData\\\\Local\\\\Temp\\\\pip-install-28w3s1dy\\\\bsddb3_a147c613c7934a0ca9536825102857db\\\\setup.py'\"'\"';f = getattr(tokenize, '\"'\"'open'\"'\"', open)(__file__) if os.path.exists(__file__) else io.StringIO('\"'\"'from setuptools import setup; setup()'\"'\"');code = f.read().replace('\"'\"'\\r\\n'\"'\"', '\"'\"'\\n'\"'\"');f.close();exec(compile(code, __file__, '\"'\"'exec'\"'\"'))' egg_info --egg-base 'C:\\Users\\00824732\\AppData\\Local\\Temp\\pip-pip-egg-info-159jeuhm'\n",
      "         cwd: C:\\Users\\00824732\\AppData\\Local\\Temp\\pip-install-28w3s1dy\\bsddb3_a147c613c7934a0ca9536825102857db\\\n",
      "    Complete output (7 lines):\n",
      "    Traceback (most recent call last):\n",
      "      File \"<string>\", line 1, in <module>\n",
      "      File \"C:\\Users\\00824732\\AppData\\Local\\Temp\\pip-install-28w3s1dy\\bsddb3_a147c613c7934a0ca9536825102857db\\setup.py\", line 42, in <module>\n",
      "        import setup3\n",
      "      File \"C:\\Users\\00824732\\AppData\\Local\\Temp\\pip-install-28w3s1dy\\bsddb3_a147c613c7934a0ca9536825102857db\\setup3.py\", line 382, in <module>\n",
      "        with open(os.path.join(incdir, 'db.h'), 'r') as f :\n",
      "    FileNotFoundError: [Errno 2] No such file or directory: 'db/include\\\\db.h'\n",
      "    ----------------------------------------\n",
      "WARNING: Discarding https://files.pythonhosted.org/packages/f7/37/d19c08c8ac6098cf73ebfe51e428045dcf39ba5f031fa129ab018dd70b07/bsddb3-6.2.2.tar.gz#sha256=6f013e1155ffb212678435bb06decb50df5b138c2d96e7f297fe9b4a27a60f50 (from https://pypi.org/simple/bsddb3/). Command errored out with exit status 1: python setup.py egg_info Check the logs for full command output.\n",
      "    ERROR: Command errored out with exit status 1:\n",
      "     command: 'c:\\Users\\00824732\\Anaconda3\\python.exe' -c 'import io, os, sys, setuptools, tokenize; sys.argv[0] = '\"'\"'C:\\\\Users\\\\00824732\\\\AppData\\\\Local\\\\Temp\\\\pip-install-28w3s1dy\\\\bsddb3_59f21023a64648c992642501b8716e4b\\\\setup.py'\"'\"'; __file__='\"'\"'C:\\\\Users\\\\00824732\\\\AppData\\\\Local\\\\Temp\\\\pip-install-28w3s1dy\\\\bsddb3_59f21023a64648c992642501b8716e4b\\\\setup.py'\"'\"';f = getattr(tokenize, '\"'\"'open'\"'\"', open)(__file__) if os.path.exists(__file__) else io.StringIO('\"'\"'from setuptools import setup; setup()'\"'\"');code = f.read().replace('\"'\"'\\r\\n'\"'\"', '\"'\"'\\n'\"'\"');f.close();exec(compile(code, __file__, '\"'\"'exec'\"'\"'))' egg_info --egg-base 'C:\\Users\\00824732\\AppData\\Local\\Temp\\pip-pip-egg-info-pn5smbke'\n",
      "         cwd: C:\\Users\\00824732\\AppData\\Local\\Temp\\pip-install-28w3s1dy\\bsddb3_59f21023a64648c992642501b8716e4b\\\n"
     ]
    },
    {
     "name": "stdout",
     "output_type": "stream",
     "text": [
      "  Downloading Gutenberg-0.8.2-py3-none-any.whl (26 kB)\n",
      "Collecting bsddb3>=6.1.0\n",
      "  Downloading bsddb3-6.2.9.tar.gz (230 kB)\n",
      "  Downloading bsddb3-6.2.7.tar.gz (437 kB)\n",
      "  Downloading bsddb3-6.2.6.tar.gz (239 kB)\n",
      "  Downloading bsddb3-6.2.5.tar.gz (237 kB)\n",
      "  Downloading bsddb3-6.2.4.tar.gz (242 kB)\n",
      "  Downloading bsddb3-6.2.3.tar.gz (240 kB)\n",
      "  Downloading bsddb3-6.2.2.tar.gz (239 kB)\n",
      "  Downloading bsddb3-6.2.1.zip (326 kB)\n",
      "  Downloading bsddb3-6.2.1.tar.gz (228 kB)\n",
      "  Downloading bsddb3-6.2.0.zip (325 kB)\n",
      "  Downloading bsddb3-6.2.0.tar.gz (236 kB)\n",
      "  Downloading bsddb3-6.1.1.zip (563 kB)\n",
      "  Downloading bsddb3-6.1.1.tar.gz (450 kB)\n",
      "  Downloading bsddb3-6.1.0.zip (456 kB)\n",
      "  Downloading bsddb3-6.1.0.tar.gz (340 kB)\n",
      "Collecting gutenberg\n",
      "  Downloading Gutenberg-0.8.1.tar.gz (19 kB)\n",
      "Collecting SPARQLWrapper>=1.8.2\n",
      "  Downloading SPARQLWrapper-2.0.0-py3-none-any.whl (28 kB)\n",
      "Collecting gutenberg\n",
      "  Downloading Gutenberg-0.8.0.tar.gz (20 kB)\n",
      "  Downloading Gutenberg-0.7.0.tar.gz (18 kB)\n",
      "  Downloading Gutenberg-0.6.1.tar.gz (18 kB)\n",
      "  Downloading Gutenberg-0.5.0.tar.gz (16 kB)\n",
      "  Downloading Gutenberg-0.4.5.tar.gz (14 kB)\n",
      "  Downloading Gutenberg-0.4.4.tar.gz (14 kB)\n",
      "  Downloading Gutenberg-0.4.2.tar.gz (10 kB)\n",
      "  Downloading Gutenberg-0.4.1.tar.gz (9.9 kB)\n",
      "  Downloading Gutenberg-0.4.0.tar.gz (14 kB)\n",
      "Collecting rdflib>=4.2.0\n",
      "  Downloading rdflib-6.2.0-py3-none-any.whl (500 kB)\n",
      "Requirement already satisfied: requests>=2.5.1 in c:\\users\\00824732\\anaconda3\\lib\\site-packages (from gutenberg) (2.26.0)\n",
      "Requirement already satisfied: setuptools in c:\\users\\00824732\\anaconda3\\lib\\site-packages (from rdflib>=4.2.0->gutenberg) (58.0.4)\n",
      "Requirement already satisfied: pyparsing in c:\\users\\00824732\\anaconda3\\lib\\site-packages (from rdflib>=4.2.0->gutenberg) (3.0.4)\n",
      "Collecting isodate\n",
      "  Downloading isodate-0.6.1-py2.py3-none-any.whl (41 kB)\n",
      "Requirement already satisfied: charset-normalizer~=2.0.0 in c:\\users\\00824732\\anaconda3\\lib\\site-packages (from requests>=2.5.1->gutenberg) (2.0.4)\n",
      "Requirement already satisfied: certifi>=2017.4.17 in c:\\users\\00824732\\anaconda3\\lib\\site-packages (from requests>=2.5.1->gutenberg) (2021.10.8)\n",
      "Requirement already satisfied: urllib3<1.27,>=1.21.1 in c:\\users\\00824732\\anaconda3\\lib\\site-packages (from requests>=2.5.1->gutenberg) (1.26.7)\n",
      "Requirement already satisfied: idna<4,>=2.5 in c:\\users\\00824732\\anaconda3\\lib\\site-packages (from requests>=2.5.1->gutenberg) (3.2)\n",
      "Requirement already satisfied: six in c:\\users\\00824732\\anaconda3\\lib\\site-packages (from isodate->rdflib>=4.2.0->gutenberg) (1.16.0)\n",
      "Building wheels for collected packages: gutenberg\n",
      "  Building wheel for gutenberg (setup.py): started\n",
      "  Building wheel for gutenberg (setup.py): finished with status 'done'\n",
      "  Created wheel for gutenberg: filename=Gutenberg-0.4.0-py3-none-any.whl size=18368 sha256=c7aaa034841a8d3a63695df0a180369c6bb0969cb94f5b7fcdf914dfc143c223\n",
      "  Stored in directory: c:\\users\\00824732\\appdata\\local\\pip\\cache\\wheels\\e4\\a4\\02\\efd977d5ac34b8a52d79a789682ddcb62aa36abb3eb67da4d9\n",
      "Successfully built gutenberg\n",
      "Installing collected packages: isodate, rdflib, gutenberg\n",
      "Successfully installed gutenberg-0.4.0 isodate-0.6.1 rdflib-6.2.0\n"
     ]
    },
    {
     "name": "stderr",
     "output_type": "stream",
     "text": [
      "    Complete output (7 lines):\n",
      "    Traceback (most recent call last):\n",
      "      File \"<string>\", line 1, in <module>\n",
      "      File \"C:\\Users\\00824732\\AppData\\Local\\Temp\\pip-install-28w3s1dy\\bsddb3_59f21023a64648c992642501b8716e4b\\setup.py\", line 42, in <module>\n",
      "        import setup3\n",
      "      File \"C:\\Users\\00824732\\AppData\\Local\\Temp\\pip-install-28w3s1dy\\bsddb3_59f21023a64648c992642501b8716e4b\\setup3.py\", line 376, in <module>\n",
      "        with open(os.path.join(incdir, 'db.h'), 'r') as f :\n",
      "    FileNotFoundError: [Errno 2] No such file or directory: 'db/include\\\\db.h'\n",
      "    ----------------------------------------\n",
      "WARNING: Discarding https://files.pythonhosted.org/packages/b2/a8/b200f97abf1e3742968b4f0418fa2e5541032837f49355ffa2362dab29c2/bsddb3-6.2.1.zip#sha256=9c315efddbff5e8e7a156fb31eacd9535ae0df2b48cbc72c3e12bc78951b6e31 (from https://pypi.org/simple/bsddb3/). Command errored out with exit status 1: python setup.py egg_info Check the logs for full command output.\n",
      "    ERROR: Command errored out with exit status 1:\n",
      "     command: 'c:\\Users\\00824732\\Anaconda3\\python.exe' -c 'import io, os, sys, setuptools, tokenize; sys.argv[0] = '\"'\"'C:\\\\Users\\\\00824732\\\\AppData\\\\Local\\\\Temp\\\\pip-install-28w3s1dy\\\\bsddb3_0ffadd09e7f54798be0df146566d97c3\\\\setup.py'\"'\"'; __file__='\"'\"'C:\\\\Users\\\\00824732\\\\AppData\\\\Local\\\\Temp\\\\pip-install-28w3s1dy\\\\bsddb3_0ffadd09e7f54798be0df146566d97c3\\\\setup.py'\"'\"';f = getattr(tokenize, '\"'\"'open'\"'\"', open)(__file__) if os.path.exists(__file__) else io.StringIO('\"'\"'from setuptools import setup; setup()'\"'\"');code = f.read().replace('\"'\"'\\r\\n'\"'\"', '\"'\"'\\n'\"'\"');f.close();exec(compile(code, __file__, '\"'\"'exec'\"'\"'))' egg_info --egg-base 'C:\\Users\\00824732\\AppData\\Local\\Temp\\pip-pip-egg-info-2c_s1bp1'\n",
      "         cwd: C:\\Users\\00824732\\AppData\\Local\\Temp\\pip-install-28w3s1dy\\bsddb3_0ffadd09e7f54798be0df146566d97c3\\\n",
      "    Complete output (7 lines):\n",
      "    Traceback (most recent call last):\n",
      "      File \"<string>\", line 1, in <module>\n",
      "      File \"C:\\Users\\00824732\\AppData\\Local\\Temp\\pip-install-28w3s1dy\\bsddb3_0ffadd09e7f54798be0df146566d97c3\\setup.py\", line 42, in <module>\n",
      "        import setup3\n",
      "      File \"C:\\Users\\00824732\\AppData\\Local\\Temp\\pip-install-28w3s1dy\\bsddb3_0ffadd09e7f54798be0df146566d97c3\\setup3.py\", line 376, in <module>\n",
      "        with open(os.path.join(incdir, 'db.h'), 'r') as f :\n",
      "    FileNotFoundError: [Errno 2] No such file or directory: 'db/include\\\\db.h'\n",
      "    ----------------------------------------\n",
      "WARNING: Discarding https://files.pythonhosted.org/packages/73/73/58954679be79a1c6031a421c81f3c8e283cd700455ad3af1de7da8fabd67/bsddb3-6.2.1.tar.gz#sha256=319a599236b0843a36c17749c0041c18a07ef28dbe9539064fd7c0fff972567c (from https://pypi.org/simple/bsddb3/). Command errored out with exit status 1: python setup.py egg_info Check the logs for full command output.\n",
      "    ERROR: Command errored out with exit status 1:\n",
      "     command: 'c:\\Users\\00824732\\Anaconda3\\python.exe' -c 'import io, os, sys, setuptools, tokenize; sys.argv[0] = '\"'\"'C:\\\\Users\\\\00824732\\\\AppData\\\\Local\\\\Temp\\\\pip-install-28w3s1dy\\\\bsddb3_13b0e88c878f43bf864691240bffd77b\\\\setup.py'\"'\"'; __file__='\"'\"'C:\\\\Users\\\\00824732\\\\AppData\\\\Local\\\\Temp\\\\pip-install-28w3s1dy\\\\bsddb3_13b0e88c878f43bf864691240bffd77b\\\\setup.py'\"'\"';f = getattr(tokenize, '\"'\"'open'\"'\"', open)(__file__) if os.path.exists(__file__) else io.StringIO('\"'\"'from setuptools import setup; setup()'\"'\"');code = f.read().replace('\"'\"'\\r\\n'\"'\"', '\"'\"'\\n'\"'\"');f.close();exec(compile(code, __file__, '\"'\"'exec'\"'\"'))' egg_info --egg-base 'C:\\Users\\00824732\\AppData\\Local\\Temp\\pip-pip-egg-info-2yj68ohp'\n",
      "         cwd: C:\\Users\\00824732\\AppData\\Local\\Temp\\pip-install-28w3s1dy\\bsddb3_13b0e88c878f43bf864691240bffd77b\\\n",
      "    Complete output (7 lines):\n",
      "    Traceback (most recent call last):\n",
      "      File \"<string>\", line 1, in <module>\n",
      "      File \"C:\\Users\\00824732\\AppData\\Local\\Temp\\pip-install-28w3s1dy\\bsddb3_13b0e88c878f43bf864691240bffd77b\\setup.py\", line 42, in <module>\n",
      "        import setup3\n",
      "      File \"C:\\Users\\00824732\\AppData\\Local\\Temp\\pip-install-28w3s1dy\\bsddb3_13b0e88c878f43bf864691240bffd77b\\setup3.py\", line 375, in <module>\n",
      "        with open(os.path.join(incdir, 'db.h'), 'r') as f :\n",
      "    FileNotFoundError: [Errno 2] No such file or directory: 'db/include\\\\db.h'\n",
      "    ----------------------------------------\n",
      "WARNING: Discarding https://files.pythonhosted.org/packages/f7/cf/60c3e5cf4e3f8f6295a0f47b64a743db75c460dc7acada57b1e70a1e9fa5/bsddb3-6.2.0.zip#sha256=1908ec59d5ddd7238d7a18450f9363f30785f03d16a45e3269a1890fb4935ac6 (from https://pypi.org/simple/bsddb3/). Command errored out with exit status 1: python setup.py egg_info Check the logs for full command output.\n",
      "    ERROR: Command errored out with exit status 1:\n",
      "     command: 'c:\\Users\\00824732\\Anaconda3\\python.exe' -c 'import io, os, sys, setuptools, tokenize; sys.argv[0] = '\"'\"'C:\\\\Users\\\\00824732\\\\AppData\\\\Local\\\\Temp\\\\pip-install-28w3s1dy\\\\bsddb3_c02da86e39c4456d8064a87b3d3ec11f\\\\setup.py'\"'\"'; __file__='\"'\"'C:\\\\Users\\\\00824732\\\\AppData\\\\Local\\\\Temp\\\\pip-install-28w3s1dy\\\\bsddb3_c02da86e39c4456d8064a87b3d3ec11f\\\\setup.py'\"'\"';f = getattr(tokenize, '\"'\"'open'\"'\"', open)(__file__) if os.path.exists(__file__) else io.StringIO('\"'\"'from setuptools import setup; setup()'\"'\"');code = f.read().replace('\"'\"'\\r\\n'\"'\"', '\"'\"'\\n'\"'\"');f.close();exec(compile(code, __file__, '\"'\"'exec'\"'\"'))' egg_info --egg-base 'C:\\Users\\00824732\\AppData\\Local\\Temp\\pip-pip-egg-info-j9auds15'\n",
      "         cwd: C:\\Users\\00824732\\AppData\\Local\\Temp\\pip-install-28w3s1dy\\bsddb3_c02da86e39c4456d8064a87b3d3ec11f\\\n",
      "    Complete output (7 lines):\n",
      "    Traceback (most recent call last):\n",
      "      File \"<string>\", line 1, in <module>\n",
      "      File \"C:\\Users\\00824732\\AppData\\Local\\Temp\\pip-install-28w3s1dy\\bsddb3_c02da86e39c4456d8064a87b3d3ec11f\\setup.py\", line 42, in <module>\n",
      "        import setup3\n",
      "      File \"C:\\Users\\00824732\\AppData\\Local\\Temp\\pip-install-28w3s1dy\\bsddb3_c02da86e39c4456d8064a87b3d3ec11f\\setup3.py\", line 375, in <module>\n",
      "        with open(os.path.join(incdir, 'db.h'), 'r') as f :\n",
      "    FileNotFoundError: [Errno 2] No such file or directory: 'db/include\\\\db.h'\n",
      "    ----------------------------------------\n",
      "WARNING: Discarding https://files.pythonhosted.org/packages/df/e7/0498e403ade8b37eec52a79998c8d9e3e40e2d16795ee26fc863be5c2341/bsddb3-6.2.0.tar.gz#sha256=3c24cb287e1dd08be387a2b4d32ae5dfeba5ef4e3785878f0030e4d4f608aba9 (from https://pypi.org/simple/bsddb3/). Command errored out with exit status 1: python setup.py egg_info Check the logs for full command output.\n",
      "    ERROR: Command errored out with exit status 1:\n",
      "     command: 'c:\\Users\\00824732\\Anaconda3\\python.exe' -c 'import io, os, sys, setuptools, tokenize; sys.argv[0] = '\"'\"'C:\\\\Users\\\\00824732\\\\AppData\\\\Local\\\\Temp\\\\pip-install-28w3s1dy\\\\bsddb3_42cf855fb8244461b373cdb728817cb0\\\\setup.py'\"'\"'; __file__='\"'\"'C:\\\\Users\\\\00824732\\\\AppData\\\\Local\\\\Temp\\\\pip-install-28w3s1dy\\\\bsddb3_42cf855fb8244461b373cdb728817cb0\\\\setup.py'\"'\"';f = getattr(tokenize, '\"'\"'open'\"'\"', open)(__file__) if os.path.exists(__file__) else io.StringIO('\"'\"'from setuptools import setup; setup()'\"'\"');code = f.read().replace('\"'\"'\\r\\n'\"'\"', '\"'\"'\\n'\"'\"');f.close();exec(compile(code, __file__, '\"'\"'exec'\"'\"'))' egg_info --egg-base 'C:\\Users\\00824732\\AppData\\Local\\Temp\\pip-pip-egg-info-vgpa_pgm'\n",
      "         cwd: C:\\Users\\00824732\\AppData\\Local\\Temp\\pip-install-28w3s1dy\\bsddb3_42cf855fb8244461b373cdb728817cb0\\\n",
      "    Complete output (7 lines):\n",
      "    Traceback (most recent call last):\n",
      "      File \"<string>\", line 1, in <module>\n",
      "      File \"C:\\Users\\00824732\\AppData\\Local\\Temp\\pip-install-28w3s1dy\\bsddb3_42cf855fb8244461b373cdb728817cb0\\setup.py\", line 42, in <module>\n",
      "        import setup3\n",
      "      File \"C:\\Users\\00824732\\AppData\\Local\\Temp\\pip-install-28w3s1dy\\bsddb3_42cf855fb8244461b373cdb728817cb0\\setup3.py\", line 375, in <module>\n",
      "        with open(os.path.join(incdir, 'db.h'), 'r') as f :\n",
      "    FileNotFoundError: [Errno 2] No such file or directory: 'db/include\\\\db.h'\n",
      "    ----------------------------------------\n",
      "WARNING: Discarding https://files.pythonhosted.org/packages/61/d6/65d31212d01f423e75f89386817791029fb87be8ac83c4ff294c61dba07a/bsddb3-6.1.1.zip#sha256=52a357a648d2a2f58de1f3f6c2606629fdd58f6cd5079271d8a1a7156874c55f (from https://pypi.org/simple/bsddb3/). Command errored out with exit status 1: python setup.py egg_info Check the logs for full command output.\n",
      "    ERROR: Command errored out with exit status 1:\n",
      "     command: 'c:\\Users\\00824732\\Anaconda3\\python.exe' -c 'import io, os, sys, setuptools, tokenize; sys.argv[0] = '\"'\"'C:\\\\Users\\\\00824732\\\\AppData\\\\Local\\\\Temp\\\\pip-install-28w3s1dy\\\\bsddb3_12b39f9b9fbc4a97b00a4c50e5c7362a\\\\setup.py'\"'\"'; __file__='\"'\"'C:\\\\Users\\\\00824732\\\\AppData\\\\Local\\\\Temp\\\\pip-install-28w3s1dy\\\\bsddb3_12b39f9b9fbc4a97b00a4c50e5c7362a\\\\setup.py'\"'\"';f = getattr(tokenize, '\"'\"'open'\"'\"', open)(__file__) if os.path.exists(__file__) else io.StringIO('\"'\"'from setuptools import setup; setup()'\"'\"');code = f.read().replace('\"'\"'\\r\\n'\"'\"', '\"'\"'\\n'\"'\"');f.close();exec(compile(code, __file__, '\"'\"'exec'\"'\"'))' egg_info --egg-base 'C:\\Users\\00824732\\AppData\\Local\\Temp\\pip-pip-egg-info-7pm4j9h5'\n",
      "         cwd: C:\\Users\\00824732\\AppData\\Local\\Temp\\pip-install-28w3s1dy\\bsddb3_12b39f9b9fbc4a97b00a4c50e5c7362a\\\n",
      "    Complete output (7 lines):\n",
      "    Traceback (most recent call last):\n",
      "      File \"<string>\", line 1, in <module>\n",
      "      File \"C:\\Users\\00824732\\AppData\\Local\\Temp\\pip-install-28w3s1dy\\bsddb3_12b39f9b9fbc4a97b00a4c50e5c7362a\\setup.py\", line 42, in <module>\n",
      "        import setup3\n",
      "      File \"C:\\Users\\00824732\\AppData\\Local\\Temp\\pip-install-28w3s1dy\\bsddb3_12b39f9b9fbc4a97b00a4c50e5c7362a\\setup3.py\", line 375, in <module>\n",
      "        with open(os.path.join(incdir, 'db.h'), 'r') as f :\n",
      "    FileNotFoundError: [Errno 2] No such file or directory: 'db/include\\\\db.h'\n",
      "    ----------------------------------------\n",
      "WARNING: Discarding https://files.pythonhosted.org/packages/95/1c/e8fb33007192f30b9a7276560c3c16499ab2a2c08abc59141b84e1afd3a9/bsddb3-6.1.1.tar.gz#sha256=6f21b0252125c07798d784c164ef135ad153d226c01b290258ee1c5b9e7c4dd3 (from https://pypi.org/simple/bsddb3/). Command errored out with exit status 1: python setup.py egg_info Check the logs for full command output.\n",
      "    ERROR: Command errored out with exit status 1:\n",
      "     command: 'c:\\Users\\00824732\\Anaconda3\\python.exe' -c 'import io, os, sys, setuptools, tokenize; sys.argv[0] = '\"'\"'C:\\\\Users\\\\00824732\\\\AppData\\\\Local\\\\Temp\\\\pip-install-28w3s1dy\\\\bsddb3_b458c92e519a45ba9fcbf1307fa0492a\\\\setup.py'\"'\"'; __file__='\"'\"'C:\\\\Users\\\\00824732\\\\AppData\\\\Local\\\\Temp\\\\pip-install-28w3s1dy\\\\bsddb3_b458c92e519a45ba9fcbf1307fa0492a\\\\setup.py'\"'\"';f = getattr(tokenize, '\"'\"'open'\"'\"', open)(__file__) if os.path.exists(__file__) else io.StringIO('\"'\"'from setuptools import setup; setup()'\"'\"');code = f.read().replace('\"'\"'\\r\\n'\"'\"', '\"'\"'\\n'\"'\"');f.close();exec(compile(code, __file__, '\"'\"'exec'\"'\"'))' egg_info --egg-base 'C:\\Users\\00824732\\AppData\\Local\\Temp\\pip-pip-egg-info-ikjd7h9n'\n",
      "         cwd: C:\\Users\\00824732\\AppData\\Local\\Temp\\pip-install-28w3s1dy\\bsddb3_b458c92e519a45ba9fcbf1307fa0492a\\\n",
      "    Complete output (7 lines):\n",
      "    Traceback (most recent call last):\n",
      "      File \"<string>\", line 1, in <module>\n",
      "      File \"C:\\Users\\00824732\\AppData\\Local\\Temp\\pip-install-28w3s1dy\\bsddb3_b458c92e519a45ba9fcbf1307fa0492a\\setup.py\", line 42, in <module>\n",
      "        import setup3\n",
      "      File \"C:\\Users\\00824732\\AppData\\Local\\Temp\\pip-install-28w3s1dy\\bsddb3_b458c92e519a45ba9fcbf1307fa0492a\\setup3.py\", line 385, in <module>\n",
      "        f = open(os.path.join(incdir, 'db.h'), 'r')\n",
      "    FileNotFoundError: [Errno 2] No such file or directory: 'db/include\\\\db.h'\n",
      "    ----------------------------------------\n",
      "WARNING: Discarding https://files.pythonhosted.org/packages/a3/ea/b07fb1c39758e0ec29bf6f98753b56bc3f1f25dafb0aa1d0eeb1b254864e/bsddb3-6.1.0.zip#sha256=6bd427b5a9b0f7e4f0b6a32046de6919feff1065b625eb5bbbef0bfa17db2325 (from https://pypi.org/simple/bsddb3/). Command errored out with exit status 1: python setup.py egg_info Check the logs for full command output.\n",
      "    ERROR: Command errored out with exit status 1:\n",
      "     command: 'c:\\Users\\00824732\\Anaconda3\\python.exe' -c 'import io, os, sys, setuptools, tokenize; sys.argv[0] = '\"'\"'C:\\\\Users\\\\00824732\\\\AppData\\\\Local\\\\Temp\\\\pip-install-28w3s1dy\\\\bsddb3_54417cb11ba7439f85ef04cb4a8cb367\\\\setup.py'\"'\"'; __file__='\"'\"'C:\\\\Users\\\\00824732\\\\AppData\\\\Local\\\\Temp\\\\pip-install-28w3s1dy\\\\bsddb3_54417cb11ba7439f85ef04cb4a8cb367\\\\setup.py'\"'\"';f = getattr(tokenize, '\"'\"'open'\"'\"', open)(__file__) if os.path.exists(__file__) else io.StringIO('\"'\"'from setuptools import setup; setup()'\"'\"');code = f.read().replace('\"'\"'\\r\\n'\"'\"', '\"'\"'\\n'\"'\"');f.close();exec(compile(code, __file__, '\"'\"'exec'\"'\"'))' egg_info --egg-base 'C:\\Users\\00824732\\AppData\\Local\\Temp\\pip-pip-egg-info-qyzz71lt'\n",
      "         cwd: C:\\Users\\00824732\\AppData\\Local\\Temp\\pip-install-28w3s1dy\\bsddb3_54417cb11ba7439f85ef04cb4a8cb367\\\n",
      "    Complete output (7 lines):\n",
      "    Traceback (most recent call last):\n",
      "      File \"<string>\", line 1, in <module>\n",
      "      File \"C:\\Users\\00824732\\AppData\\Local\\Temp\\pip-install-28w3s1dy\\bsddb3_54417cb11ba7439f85ef04cb4a8cb367\\setup.py\", line 42, in <module>\n",
      "        import setup3\n",
      "      File \"C:\\Users\\00824732\\AppData\\Local\\Temp\\pip-install-28w3s1dy\\bsddb3_54417cb11ba7439f85ef04cb4a8cb367\\setup3.py\", line 385, in <module>\n",
      "        f = open(os.path.join(incdir, 'db.h'), 'r')\n",
      "    FileNotFoundError: [Errno 2] No such file or directory: 'db/include\\\\db.h'\n",
      "    ----------------------------------------\n",
      "WARNING: Discarding https://files.pythonhosted.org/packages/3d/4d/aa534edd481c196071eb6a8295b8be14d4dec830a51b298ba26cb24c6149/bsddb3-6.1.0.tar.gz#sha256=b13163e3891c32390aea66edcf7880eb245abc89199a766b7b1907fc5c1efd15 (from https://pypi.org/simple/bsddb3/). Command errored out with exit status 1: python setup.py egg_info Check the logs for full command output.\n",
      "    ERROR: Command errored out with exit status 1:\n",
      "     command: 'c:\\Users\\00824732\\Anaconda3\\python.exe' -c 'import io, os, sys, setuptools, tokenize; sys.argv[0] = '\"'\"'C:\\\\Users\\\\00824732\\\\AppData\\\\Local\\\\Temp\\\\pip-install-28w3s1dy\\\\gutenberg_bdb02f78591f494f88ae73e4d44844d0\\\\setup.py'\"'\"'; __file__='\"'\"'C:\\\\Users\\\\00824732\\\\AppData\\\\Local\\\\Temp\\\\pip-install-28w3s1dy\\\\gutenberg_bdb02f78591f494f88ae73e4d44844d0\\\\setup.py'\"'\"';f = getattr(tokenize, '\"'\"'open'\"'\"', open)(__file__) if os.path.exists(__file__) else io.StringIO('\"'\"'from setuptools import setup; setup()'\"'\"');code = f.read().replace('\"'\"'\\r\\n'\"'\"', '\"'\"'\\n'\"'\"');f.close();exec(compile(code, __file__, '\"'\"'exec'\"'\"'))' egg_info --egg-base 'C:\\Users\\00824732\\AppData\\Local\\Temp\\pip-pip-egg-info-ivoon7e5'\n",
      "         cwd: C:\\Users\\00824732\\AppData\\Local\\Temp\\pip-install-28w3s1dy\\gutenberg_bdb02f78591f494f88ae73e4d44844d0\\\n",
      "    Complete output (1 lines):\n",
      "    error in Gutenberg setup command: 'dependency_links' must be a list of strings (got set())\n",
      "    ----------------------------------------\n",
      "WARNING: Discarding https://files.pythonhosted.org/packages/14/b1/6e99867c38e70d46366966a0a861c580377f38312cf9dbad38b82ed1823d/Gutenberg-0.7.0.tar.gz#sha256=f033d038ca77a9fa367d4b655be89280758b039bbd80fdcc433ef2462d7b52db (from https://pypi.org/simple/gutenberg/) (requires-python:>=2.7.*,!=3.0.*,!=3.1.*,!=3.2.*,!=3.3.*). Command errored out with exit status 1: python setup.py egg_info Check the logs for full command output.\n",
      "    ERROR: Command errored out with exit status 1:\n",
      "     command: 'c:\\Users\\00824732\\Anaconda3\\python.exe' -c 'import io, os, sys, setuptools, tokenize; sys.argv[0] = '\"'\"'C:\\\\Users\\\\00824732\\\\AppData\\\\Local\\\\Temp\\\\pip-install-28w3s1dy\\\\gutenberg_f4aea3d7b54549d9b73ab022f526edd1\\\\setup.py'\"'\"'; __file__='\"'\"'C:\\\\Users\\\\00824732\\\\AppData\\\\Local\\\\Temp\\\\pip-install-28w3s1dy\\\\gutenberg_f4aea3d7b54549d9b73ab022f526edd1\\\\setup.py'\"'\"';f = getattr(tokenize, '\"'\"'open'\"'\"', open)(__file__) if os.path.exists(__file__) else io.StringIO('\"'\"'from setuptools import setup; setup()'\"'\"');code = f.read().replace('\"'\"'\\r\\n'\"'\"', '\"'\"'\\n'\"'\"');f.close();exec(compile(code, __file__, '\"'\"'exec'\"'\"'))' egg_info --egg-base 'C:\\Users\\00824732\\AppData\\Local\\Temp\\pip-pip-egg-info-4brks1ca'\n",
      "         cwd: C:\\Users\\00824732\\AppData\\Local\\Temp\\pip-install-28w3s1dy\\gutenberg_f4aea3d7b54549d9b73ab022f526edd1\\\n",
      "    Complete output (1 lines):\n",
      "    error in Gutenberg setup command: 'dependency_links' must be a list of strings (got set())\n",
      "    ----------------------------------------\n",
      "WARNING: Discarding https://files.pythonhosted.org/packages/f0/1e/46097d6f4240533c6d8a98161da0ebfa7b03fd8e61fed50866ed7686df2e/Gutenberg-0.6.1.tar.gz#sha256=351256dc33319a2b371fa68ec9019be409823cde5f3fd0b318ea50ccfc41c6d8 (from https://pypi.org/simple/gutenberg/) (requires-python:>=2.7.*,!=3.0.*,!=3.1.*,!=3.2.*,!=3.3.*). Command errored out with exit status 1: python setup.py egg_info Check the logs for full command output.\n",
      "    ERROR: Command errored out with exit status 1:\n",
      "     command: 'c:\\Users\\00824732\\Anaconda3\\python.exe' -c 'import io, os, sys, setuptools, tokenize; sys.argv[0] = '\"'\"'C:\\\\Users\\\\00824732\\\\AppData\\\\Local\\\\Temp\\\\pip-install-28w3s1dy\\\\gutenberg_ae5642acc9b44f129b0ce084c35a06cd\\\\setup.py'\"'\"'; __file__='\"'\"'C:\\\\Users\\\\00824732\\\\AppData\\\\Local\\\\Temp\\\\pip-install-28w3s1dy\\\\gutenberg_ae5642acc9b44f129b0ce084c35a06cd\\\\setup.py'\"'\"';f = getattr(tokenize, '\"'\"'open'\"'\"', open)(__file__) if os.path.exists(__file__) else io.StringIO('\"'\"'from setuptools import setup; setup()'\"'\"');code = f.read().replace('\"'\"'\\r\\n'\"'\"', '\"'\"'\\n'\"'\"');f.close();exec(compile(code, __file__, '\"'\"'exec'\"'\"'))' egg_info --egg-base 'C:\\Users\\00824732\\AppData\\Local\\Temp\\pip-pip-egg-info-9bou1lia'\n",
      "         cwd: C:\\Users\\00824732\\AppData\\Local\\Temp\\pip-install-28w3s1dy\\gutenberg_ae5642acc9b44f129b0ce084c35a06cd\\\n",
      "    Complete output (1 lines):\n",
      "    error in Gutenberg setup command: 'dependency_links' must be a list of strings (got set())\n",
      "    ----------------------------------------\n",
      "WARNING: Discarding https://files.pythonhosted.org/packages/08/ca/94eee4b5ffef01f973c31fe66c9e3c0f1b3bd786a8a67f38c8c113b281d4/Gutenberg-0.5.0.tar.gz#sha256=9d6dab6b57a79033f4a63145aabe5ffe01a542ea6e82e643f4f9f8dc776cc709 (from https://pypi.org/simple/gutenberg/). Command errored out with exit status 1: python setup.py egg_info Check the logs for full command output.\n",
      "    ERROR: Command errored out with exit status 1:\n",
      "     command: 'c:\\Users\\00824732\\Anaconda3\\python.exe' -c 'import io, os, sys, setuptools, tokenize; sys.argv[0] = '\"'\"'C:\\\\Users\\\\00824732\\\\AppData\\\\Local\\\\Temp\\\\pip-install-28w3s1dy\\\\gutenberg_f6d0310065c84497adfbcd8363b60ef1\\\\setup.py'\"'\"'; __file__='\"'\"'C:\\\\Users\\\\00824732\\\\AppData\\\\Local\\\\Temp\\\\pip-install-28w3s1dy\\\\gutenberg_f6d0310065c84497adfbcd8363b60ef1\\\\setup.py'\"'\"';f = getattr(tokenize, '\"'\"'open'\"'\"', open)(__file__) if os.path.exists(__file__) else io.StringIO('\"'\"'from setuptools import setup; setup()'\"'\"');code = f.read().replace('\"'\"'\\r\\n'\"'\"', '\"'\"'\\n'\"'\"');f.close();exec(compile(code, __file__, '\"'\"'exec'\"'\"'))' egg_info --egg-base 'C:\\Users\\00824732\\AppData\\Local\\Temp\\pip-pip-egg-info-etw99fwa'\n",
      "         cwd: C:\\Users\\00824732\\AppData\\Local\\Temp\\pip-install-28w3s1dy\\gutenberg_f6d0310065c84497adfbcd8363b60ef1\\\n",
      "    Complete output (1 lines):\n",
      "    error in Gutenberg setup command: 'dependency_links' must be a list of strings (got {'git+https://github.com/RDFLib/rdflib-sqlalchemy.git@20fbf1fbbdbc53917bfd7554f38d22d08e71e225#egg=rdflib-sqlalchemy-0.2.dev0'})\n",
      "    ----------------------------------------\n",
      "WARNING: Discarding https://files.pythonhosted.org/packages/f8/4c/97c1854f619c21b6a9d6b0ab0e3502e0aa82d827448cb60252333b52c76a/Gutenberg-0.4.5.tar.gz#sha256=08feb04f77d46bff52732d0551a678f2c16151ab94cfa3148c9da1a6680d9c85 (from https://pypi.org/simple/gutenberg/). Command errored out with exit status 1: python setup.py egg_info Check the logs for full command output.\n",
      "    ERROR: Command errored out with exit status 1:\n",
      "     command: 'c:\\Users\\00824732\\Anaconda3\\python.exe' -c 'import io, os, sys, setuptools, tokenize; sys.argv[0] = '\"'\"'C:\\\\Users\\\\00824732\\\\AppData\\\\Local\\\\Temp\\\\pip-install-28w3s1dy\\\\gutenberg_bca183423a1c43149b506fda1eae89b2\\\\setup.py'\"'\"'; __file__='\"'\"'C:\\\\Users\\\\00824732\\\\AppData\\\\Local\\\\Temp\\\\pip-install-28w3s1dy\\\\gutenberg_bca183423a1c43149b506fda1eae89b2\\\\setup.py'\"'\"';f = getattr(tokenize, '\"'\"'open'\"'\"', open)(__file__) if os.path.exists(__file__) else io.StringIO('\"'\"'from setuptools import setup; setup()'\"'\"');code = f.read().replace('\"'\"'\\r\\n'\"'\"', '\"'\"'\\n'\"'\"');f.close();exec(compile(code, __file__, '\"'\"'exec'\"'\"'))' egg_info --egg-base 'C:\\Users\\00824732\\AppData\\Local\\Temp\\pip-pip-egg-info-h2uen9n9'\n",
      "         cwd: C:\\Users\\00824732\\AppData\\Local\\Temp\\pip-install-28w3s1dy\\gutenberg_bca183423a1c43149b506fda1eae89b2\\\n",
      "    Complete output (1 lines):\n",
      "    error in Gutenberg setup command: 'dependency_links' must be a list of strings (got {'git+https://github.com/RDFLib/rdflib-sqlalchemy.git@20fbf1fbbdbc53917bfd7554f38d22d08e71e225#egg=rdflib-sqlalchemy-0.2.dev1'})\n",
      "    ----------------------------------------\n",
      "WARNING: Discarding https://files.pythonhosted.org/packages/8a/66/4924f00056d0377e2b73190ba28e64328ecfb2a210a1808681c36ac4a120/Gutenberg-0.4.4.tar.gz#sha256=0ad7f200ce14017849e7912d76842dc41bfcc4425413736f54a3463019399390 (from https://pypi.org/simple/gutenberg/). Command errored out with exit status 1: python setup.py egg_info Check the logs for full command output.\n",
      "    ERROR: Command errored out with exit status 1:\n",
      "     command: 'c:\\Users\\00824732\\Anaconda3\\python.exe' -c 'import io, os, sys, setuptools, tokenize; sys.argv[0] = '\"'\"'C:\\\\Users\\\\00824732\\\\AppData\\\\Local\\\\Temp\\\\pip-install-28w3s1dy\\\\gutenberg_2bee263546cd4235bb4fbfaafb166af8\\\\setup.py'\"'\"'; __file__='\"'\"'C:\\\\Users\\\\00824732\\\\AppData\\\\Local\\\\Temp\\\\pip-install-28w3s1dy\\\\gutenberg_2bee263546cd4235bb4fbfaafb166af8\\\\setup.py'\"'\"';f = getattr(tokenize, '\"'\"'open'\"'\"', open)(__file__) if os.path.exists(__file__) else io.StringIO('\"'\"'from setuptools import setup; setup()'\"'\"');code = f.read().replace('\"'\"'\\r\\n'\"'\"', '\"'\"'\\n'\"'\"');f.close();exec(compile(code, __file__, '\"'\"'exec'\"'\"'))' egg_info --egg-base 'C:\\Users\\00824732\\AppData\\Local\\Temp\\pip-pip-egg-info-ey0a8f5n'\n",
      "         cwd: C:\\Users\\00824732\\AppData\\Local\\Temp\\pip-install-28w3s1dy\\gutenberg_2bee263546cd4235bb4fbfaafb166af8\\\n",
      "    Complete output (5 lines):\n",
      "    Traceback (most recent call last):\n",
      "      File \"<string>\", line 1, in <module>\n",
      "      File \"C:\\Users\\00824732\\AppData\\Local\\Temp\\pip-install-28w3s1dy\\gutenberg_2bee263546cd4235bb4fbfaafb166af8\\setup.py\", line 19, in <module>\n",
      "        install_requires=list(line.strip() for line in open('requirements.pip')))\n",
      "    FileNotFoundError: [Errno 2] No such file or directory: 'requirements.pip'\n",
      "    ----------------------------------------\n",
      "WARNING: Discarding https://files.pythonhosted.org/packages/6e/52/9d00f84986e30f39d3926b9e58ca418431f0497ace818b30b1bf8b6bb3c5/Gutenberg-0.4.1.tar.gz#sha256=286525e599303c09a803616426647229bef65bca0cfe94e222b751ccbb591230 (from https://pypi.org/simple/gutenberg/). Command errored out with exit status 1: python setup.py egg_info Check the logs for full command output.\n"
     ]
    }
   ],
   "source": [
    "!pip3 install gutenberg\n",
    "!pip3 install wordcloud"
   ]
  },
  {
   "cell_type": "code",
   "execution_count": 103,
   "metadata": {},
   "outputs": [],
   "source": [
    "import seaborn as sns"
   ]
  },
  {
   "cell_type": "code",
   "execution_count": null,
   "metadata": {},
   "outputs": [],
   "source": [
    "# dataset\n",
    "# -------\n",
    "# Review\n",
    "# -----\n",
    "# 1. Food is goo and I'm going to visit this restaurant\n",
    "# 2. Move is awesome, I'm going to recomend this others\n",
    "# 3. Bad day and everything is going bad -20 row -5 minutes"
   ]
  },
  {
   "cell_type": "code",
   "execution_count": 56,
   "metadata": {},
   "outputs": [
    {
     "name": "stderr",
     "output_type": "stream",
     "text": [
      "[nltk_data] Downloading package stopwords to\n",
      "[nltk_data]     C:\\Users\\00824732\\AppData\\Roaming\\nltk_data...\n",
      "[nltk_data]   Package stopwords is already up-to-date!\n",
      "[nltk_data] Downloading package gutenberg to\n",
      "[nltk_data]     C:\\Users\\00824732\\AppData\\Roaming\\nltk_data...\n",
      "[nltk_data]   Package gutenberg is already up-to-date!\n"
     ]
    }
   ],
   "source": [
    "import pandas as pd\n",
    "import nltk\n",
    "from nltk.sentiment.vader import SentimentIntensityAnalyzer\n",
    "nltk.download('stopwords')\n",
    "from nltk.corpus import stopwords\n",
    "from nltk.tokenize import sent_tokenize,word_tokenize\n",
    "# from nltk.book import *\n",
    "import nltk\n",
    "nltk.download('gutenberg')\n",
    "from nltk.probability import FreqDist as fd\n",
    "import collections\n",
    "from collections import Counter"
   ]
  },
  {
   "cell_type": "code",
   "execution_count": 59,
   "metadata": {},
   "outputs": [
    {
     "data": {
      "text/plain": [
       "Counter({'\\n': 34,\n",
       "         'T': 25,\n",
       "         'o': 200,\n",
       "         'm': 40,\n",
       "         ' ': 416,\n",
       "         'i': 228,\n",
       "         's': 192,\n",
       "         'u': 72,\n",
       "         'e': 265,\n",
       "         'd': 75,\n",
       "         't': 221,\n",
       "         'r': 253,\n",
       "         'v': 27,\n",
       "         'n': 217,\n",
       "         'g': 69,\n",
       "         'a': 269,\n",
       "         'p': 85,\n",
       "         'c': 102,\n",
       "         'k': 19,\n",
       "         ',': 30,\n",
       "         'b': 34,\n",
       "         'h': 66,\n",
       "         \"'\": 2,\n",
       "         '.': 13,\n",
       "         'W': 4,\n",
       "         'I': 5,\n",
       "         'w': 39,\n",
       "         'l': 133,\n",
       "         'f': 35,\n",
       "         'y': 56,\n",
       "         'D': 5,\n",
       "         '?': 1,\n",
       "         'R': 23,\n",
       "         '(': 6,\n",
       "         ')': 6,\n",
       "         'O': 3,\n",
       "         '\"': 2,\n",
       "         '1': 2,\n",
       "         '6': 1,\n",
       "         '-': 8,\n",
       "         'x': 4,\n",
       "         'K': 4,\n",
       "         'G': 4,\n",
       "         'M': 10,\n",
       "         'C': 8,\n",
       "         'A': 9,\n",
       "         '2': 2,\n",
       "         '8': 1,\n",
       "         '0': 3,\n",
       "         'S': 5,\n",
       "         'j': 2,\n",
       "         'N': 4,\n",
       "         'L': 6,\n",
       "         'H': 8,\n",
       "         'J': 1,\n",
       "         'P': 7,\n",
       "         '5': 1,\n",
       "         'U': 2,\n",
       "         'Z': 1,\n",
       "         'V': 2,\n",
       "         'B': 3,\n",
       "         'F': 2,\n",
       "         '9': 1,\n",
       "         'z': 3,\n",
       "         'E': 1,\n",
       "         '[': 1,\n",
       "         ']': 1})"
      ]
     },
     "execution_count": 59,
     "metadata": {},
     "output_type": "execute_result"
    }
   ],
   "source": [
    "Counter(''.join(setnence))"
   ]
  },
  {
   "cell_type": "code",
   "execution_count": 11,
   "metadata": {},
   "outputs": [],
   "source": [
    "stop_words=set(stopwords.words('english'))"
   ]
  },
  {
   "cell_type": "code",
   "execution_count": 32,
   "metadata": {},
   "outputs": [],
   "source": [
    "setnence='''\n",
    "Tom is used to driving a pickup truck, but he's never driven a monster truck.\n",
    "When I went to the cabin up north, I had to bring a lot of board games to entertain myself, Tom is used to driving a pickup truck, but he's never driven a monster truck,Did you get that?\n",
    "Rail transport (also known as train transport) is a means of transport that transfers passengers and goods on wheeled vehicles running on rails, which are incorporated in tracks. In contrast to road transport, where the vehicles run on a prepared flat surface, rail vehicles (rolling stock) are directionally guided by the tracks on which they run. Tracks usually consist of steel rails, installed on sleepers (ties) set in ballast, on which the rolling stock, usually fitted with metal wheels, moves. Other variations are also possible, such as \"slab track\", in which the rails are fastened to a concrete foundation resting on a prepared subsurface.\n",
    "16th-century minecart, an early example of unpowered rail transport\n",
    "KTT set operating the Guangdong Through Train service on the Guangshen railway, used by the MTR Corporation, an example of modern rail transport\n",
    "A DR2800 series passing Sijiaoting railway station in Ruifang District, New Taipei, Taiwan\n",
    "The SL Hitoyoshi steam-hauled excursion train operating between Kumamoto and Hitoyoshi in Kyushu, Japan\n",
    "Part of a series on\n",
    "Rail transport\n",
    "Aiga railtransportation 25.svg\n",
    "HistoryTerminology (AU, NA, NZ, UK)\n",
    "Infrastructure\n",
    "OperationsRail yardRailway track MaintenanceTrack gauge Variable gaugeGauge conversionDual gauge\n",
    "Rolling stock\n",
    "LocomotivesTrainsRailroad carsRailway couplings Couplers by countryCoupler conversionDual couplingWheelsetBogie (truck)\n",
    "Passenger train\n",
    "TramLight railRapid transit HistoryCommuter railRegional railInter-city railHigh-speed railwaysMaglev\n",
    "TerminologyNamed passenger trains\n",
    "Miscellanea\n",
    "AccidentsAttractionsBy countryCompaniesFreightRail subsidies\n",
    "Modelling\n",
    "icon Transport portal\n",
    "vte\n",
    "Part of a series on\n",
    "Transport\n",
    "The How and Why Library 019.jpg\n",
    "Modes\n",
    "AirAnimal-powered LandRailRoadMotorized cable transport RailHuman-powered CableLandRailRoadWaterMotorized land transport RailRoadPersonal rapid transitPipelineSpaceSupersonicMotorized water transportVactrain\n",
    "Topics\n",
    "AccessibilityBicycle transportation planning and engineeringCyclabilityCycling infrastructureEngineeringFree public transportGreen transport hierarchyHistoryOutlinePublic transportSustainable transportTimelineTransport divideTransportation planning\n",
    "icon Transport portal\n",
    "vte\n",
    "Rolling stock in a rail transport system generally encounters lower frictional resistance than rubber-tyred road vehicles, so passenger and freight cars (carriages and wagons) can be coupled into longer trains. The operation is carried out by a railway company, providing transport between train stations or freight customer facilities. Power is provided by locomotives which either draw electric power from a railway electrification system or produce their own power, usually by diesel engines or, historically, steam engines. Most tracks are accompanied by a signalling system. Railways are a safe land transport system when compared to other forms of transport.[a] Railway transport is capable of high levels of passenger and cargo utilisation and energy efficiency, but is often less flexible and more capital-intensive than road transport, when lower traffic levels are considered.\n",
    "'''"
   ]
  },
  {
   "cell_type": "code",
   "execution_count": 38,
   "metadata": {},
   "outputs": [],
   "source": [
    "words_tokenize=word_tokenize(setnence)"
   ]
  },
  {
   "cell_type": "code",
   "execution_count": 16,
   "metadata": {},
   "outputs": [],
   "source": [
    "word_updated=[]\n",
    "for word in words:\n",
    "    if word not in stop_words:\n",
    "        word_updated.append(word)"
   ]
  },
  {
   "cell_type": "code",
   "execution_count": 17,
   "metadata": {},
   "outputs": [
    {
     "data": {
      "text/plain": [
       "['Tom',\n",
       " 'used',\n",
       " 'driving',\n",
       " 'pickup',\n",
       " 'truck',\n",
       " ',',\n",
       " \"'s\",\n",
       " 'never',\n",
       " 'driven',\n",
       " 'monster',\n",
       " 'truck',\n",
       " '.',\n",
       " 'When',\n",
       " 'I',\n",
       " 'went',\n",
       " 'cabin',\n",
       " 'north',\n",
       " ',',\n",
       " 'I',\n",
       " 'bring',\n",
       " 'lot',\n",
       " 'board',\n",
       " 'games',\n",
       " 'entertain',\n",
       " ',',\n",
       " 'Tom',\n",
       " 'used',\n",
       " 'driving',\n",
       " 'pickup',\n",
       " 'truck',\n",
       " ',',\n",
       " \"'s\",\n",
       " 'never',\n",
       " 'driven',\n",
       " 'monster',\n",
       " 'truck',\n",
       " ',',\n",
       " 'Did',\n",
       " 'get',\n",
       " '?',\n",
       " 'Rail',\n",
       " 'transport',\n",
       " '(',\n",
       " 'also',\n",
       " 'known',\n",
       " 'train',\n",
       " 'transport',\n",
       " ')',\n",
       " 'means',\n",
       " 'transport',\n",
       " 'transfers',\n",
       " 'passengers',\n",
       " 'goods',\n",
       " 'wheeled',\n",
       " 'vehicles',\n",
       " 'running',\n",
       " 'rails',\n",
       " ',',\n",
       " 'incorporated',\n",
       " 'tracks',\n",
       " '.',\n",
       " 'In',\n",
       " 'contrast',\n",
       " 'road',\n",
       " 'transport',\n",
       " ',',\n",
       " 'vehicles',\n",
       " 'run',\n",
       " 'prepared',\n",
       " 'flat',\n",
       " 'surface',\n",
       " ',',\n",
       " 'rail',\n",
       " 'vehicles',\n",
       " '(',\n",
       " 'rolling',\n",
       " 'stock',\n",
       " ')',\n",
       " 'directionally',\n",
       " 'guided',\n",
       " 'tracks',\n",
       " 'run',\n",
       " '.',\n",
       " 'Tracks',\n",
       " 'usually',\n",
       " 'consist',\n",
       " 'steel',\n",
       " 'rails',\n",
       " ',',\n",
       " 'installed',\n",
       " 'sleepers',\n",
       " '(',\n",
       " 'ties',\n",
       " ')',\n",
       " 'set',\n",
       " 'ballast',\n",
       " ',',\n",
       " 'rolling',\n",
       " 'stock',\n",
       " ',',\n",
       " 'usually',\n",
       " 'fitted',\n",
       " 'metal',\n",
       " 'wheels',\n",
       " ',',\n",
       " 'moves',\n",
       " '.',\n",
       " 'Other',\n",
       " 'variations',\n",
       " 'also',\n",
       " 'possible',\n",
       " ',',\n",
       " '``',\n",
       " 'slab',\n",
       " 'track',\n",
       " \"''\",\n",
       " ',',\n",
       " 'rails',\n",
       " 'fastened',\n",
       " 'concrete',\n",
       " 'foundation',\n",
       " 'resting',\n",
       " 'prepared',\n",
       " 'subsurface',\n",
       " '.',\n",
       " '16th-century',\n",
       " 'minecart',\n",
       " ',',\n",
       " 'early',\n",
       " 'example',\n",
       " 'unpowered',\n",
       " 'rail',\n",
       " 'transport',\n",
       " 'KTT',\n",
       " 'set',\n",
       " 'operating',\n",
       " 'Guangdong',\n",
       " 'Through',\n",
       " 'Train',\n",
       " 'service',\n",
       " 'Guangshen',\n",
       " 'railway',\n",
       " ',',\n",
       " 'used',\n",
       " 'MTR',\n",
       " 'Corporation',\n",
       " ',',\n",
       " 'example',\n",
       " 'modern',\n",
       " 'rail',\n",
       " 'transport',\n",
       " 'A',\n",
       " 'DR2800',\n",
       " 'series',\n",
       " 'passing',\n",
       " 'Sijiaoting',\n",
       " 'railway',\n",
       " 'station',\n",
       " 'Ruifang',\n",
       " 'District',\n",
       " ',',\n",
       " 'New',\n",
       " 'Taipei',\n",
       " ',',\n",
       " 'Taiwan',\n",
       " 'The',\n",
       " 'SL',\n",
       " 'Hitoyoshi',\n",
       " 'steam-hauled',\n",
       " 'excursion',\n",
       " 'train',\n",
       " 'operating',\n",
       " 'Kumamoto',\n",
       " 'Hitoyoshi',\n",
       " 'Kyushu',\n",
       " ',',\n",
       " 'Japan',\n",
       " 'Part',\n",
       " 'series',\n",
       " 'Rail',\n",
       " 'transport',\n",
       " 'Aiga',\n",
       " 'railtransportation',\n",
       " '25.svg',\n",
       " 'HistoryTerminology',\n",
       " '(',\n",
       " 'AU',\n",
       " ',',\n",
       " 'NA',\n",
       " ',',\n",
       " 'NZ',\n",
       " ',',\n",
       " 'UK',\n",
       " ')',\n",
       " 'Infrastructure',\n",
       " 'OperationsRail',\n",
       " 'yardRailway',\n",
       " 'track',\n",
       " 'MaintenanceTrack',\n",
       " 'gauge',\n",
       " 'Variable',\n",
       " 'gaugeGauge',\n",
       " 'conversionDual',\n",
       " 'gauge',\n",
       " 'Rolling',\n",
       " 'stock',\n",
       " 'LocomotivesTrainsRailroad',\n",
       " 'carsRailway',\n",
       " 'couplings',\n",
       " 'Couplers',\n",
       " 'countryCoupler',\n",
       " 'conversionDual',\n",
       " 'couplingWheelsetBogie',\n",
       " '(',\n",
       " 'truck',\n",
       " ')',\n",
       " 'Passenger',\n",
       " 'train',\n",
       " 'TramLight',\n",
       " 'railRapid',\n",
       " 'transit',\n",
       " 'HistoryCommuter',\n",
       " 'railRegional',\n",
       " 'railInter-city',\n",
       " 'railHigh-speed',\n",
       " 'railwaysMaglev',\n",
       " 'TerminologyNamed',\n",
       " 'passenger',\n",
       " 'trains',\n",
       " 'Miscellanea',\n",
       " 'AccidentsAttractionsBy',\n",
       " 'countryCompaniesFreightRail',\n",
       " 'subsidies',\n",
       " 'Modelling',\n",
       " 'icon',\n",
       " 'Transport',\n",
       " 'portal',\n",
       " 'vte',\n",
       " 'Part',\n",
       " 'series',\n",
       " 'Transport',\n",
       " 'The',\n",
       " 'How',\n",
       " 'Why',\n",
       " 'Library',\n",
       " '019.jpg',\n",
       " 'Modes',\n",
       " 'AirAnimal-powered',\n",
       " 'LandRailRoadMotorized',\n",
       " 'cable',\n",
       " 'transport',\n",
       " 'RailHuman-powered',\n",
       " 'CableLandRailRoadWaterMotorized',\n",
       " 'land',\n",
       " 'transport',\n",
       " 'RailRoadPersonal',\n",
       " 'rapid',\n",
       " 'transitPipelineSpaceSupersonicMotorized',\n",
       " 'water',\n",
       " 'transportVactrain',\n",
       " 'Topics',\n",
       " 'AccessibilityBicycle',\n",
       " 'transportation',\n",
       " 'planning',\n",
       " 'engineeringCyclabilityCycling',\n",
       " 'infrastructureEngineeringFree',\n",
       " 'public',\n",
       " 'transportGreen',\n",
       " 'transport',\n",
       " 'hierarchyHistoryOutlinePublic',\n",
       " 'transportSustainable',\n",
       " 'transportTimelineTransport',\n",
       " 'divideTransportation',\n",
       " 'planning',\n",
       " 'icon',\n",
       " 'Transport',\n",
       " 'portal',\n",
       " 'vte',\n",
       " 'Rolling',\n",
       " 'stock',\n",
       " 'rail',\n",
       " 'transport',\n",
       " 'system',\n",
       " 'generally',\n",
       " 'encounters',\n",
       " 'lower',\n",
       " 'frictional',\n",
       " 'resistance',\n",
       " 'rubber-tyred',\n",
       " 'road',\n",
       " 'vehicles',\n",
       " ',',\n",
       " 'passenger',\n",
       " 'freight',\n",
       " 'cars',\n",
       " '(',\n",
       " 'carriages',\n",
       " 'wagons',\n",
       " ')',\n",
       " 'coupled',\n",
       " 'longer',\n",
       " 'trains',\n",
       " '.',\n",
       " 'The',\n",
       " 'operation',\n",
       " 'carried',\n",
       " 'railway',\n",
       " 'company',\n",
       " ',',\n",
       " 'providing',\n",
       " 'transport',\n",
       " 'train',\n",
       " 'stations',\n",
       " 'freight',\n",
       " 'customer',\n",
       " 'facilities',\n",
       " '.',\n",
       " 'Power',\n",
       " 'provided',\n",
       " 'locomotives',\n",
       " 'either',\n",
       " 'draw',\n",
       " 'electric',\n",
       " 'power',\n",
       " 'railway',\n",
       " 'electrification',\n",
       " 'system',\n",
       " 'produce',\n",
       " 'power',\n",
       " ',',\n",
       " 'usually',\n",
       " 'diesel',\n",
       " 'engines',\n",
       " ',',\n",
       " 'historically',\n",
       " ',',\n",
       " 'steam',\n",
       " 'engines',\n",
       " '.',\n",
       " 'Most',\n",
       " 'tracks',\n",
       " 'accompanied',\n",
       " 'signalling',\n",
       " 'system',\n",
       " '.',\n",
       " 'Railways',\n",
       " 'safe',\n",
       " 'land',\n",
       " 'transport',\n",
       " 'system',\n",
       " 'compared',\n",
       " 'forms',\n",
       " 'transport',\n",
       " '.',\n",
       " '[',\n",
       " ']',\n",
       " 'Railway',\n",
       " 'transport',\n",
       " 'capable',\n",
       " 'high',\n",
       " 'levels',\n",
       " 'passenger',\n",
       " 'cargo',\n",
       " 'utilisation',\n",
       " 'energy',\n",
       " 'efficiency',\n",
       " ',',\n",
       " 'often',\n",
       " 'less',\n",
       " 'flexible',\n",
       " 'capital-intensive',\n",
       " 'road',\n",
       " 'transport',\n",
       " ',',\n",
       " 'lower',\n",
       " 'traffic',\n",
       " 'levels',\n",
       " 'considered',\n",
       " '.']"
      ]
     },
     "execution_count": 17,
     "metadata": {},
     "output_type": "execute_result"
    }
   ],
   "source": [
    "word_updated"
   ]
  },
  {
   "cell_type": "code",
   "execution_count": 44,
   "metadata": {},
   "outputs": [],
   "source": [
    "words_withoutnumbers=[]\n",
    "for i in words:\n",
    "    if i.isalpha():\n",
    "        pass\n",
    "    else:\n",
    "        words_withoutnumbers.append(i)"
   ]
  },
  {
   "cell_type": "code",
   "execution_count": 46,
   "metadata": {},
   "outputs": [
    {
     "name": "stdout",
     "output_type": "stream",
     "text": [
      "\n",
      "\n"
     ]
    }
   ],
   "source": [
    "print(''.join(words_withoutnumbers))"
   ]
  },
  {
   "cell_type": "code",
   "execution_count": 37,
   "metadata": {},
   "outputs": [
    {
     "data": {
      "text/plain": [
       "'!\"#$%&\\'()*+,-./:;<=>?@[\\\\]^_`{|}~'"
      ]
     },
     "execution_count": 37,
     "metadata": {},
     "output_type": "execute_result"
    }
   ],
   "source": [
    "import string\n",
    "string.punctuation"
   ]
  },
  {
   "cell_type": "code",
   "execution_count": 40,
   "metadata": {},
   "outputs": [],
   "source": [
    "words_no_punctuation=[]\n",
    "for words in setnence:\n",
    "    for j in list(string.punctuation):\n",
    "        i=words.replace(j,'').lower()\n",
    "    words_no_punctuation.append(i)\n"
   ]
  },
  {
   "cell_type": "code",
   "execution_count": 62,
   "metadata": {},
   "outputs": [],
   "source": [
    "frequence_words=fd(words_tokenize)"
   ]
  },
  {
   "cell_type": "code",
   "execution_count": 66,
   "metadata": {},
   "outputs": [
    {
     "data": {
      "text/plain": [
       "'a'"
      ]
     },
     "execution_count": 66,
     "metadata": {},
     "output_type": "execute_result"
    }
   ],
   "source": [
    "frequence_words.most_common(10)[1][0]"
   ]
  },
  {
   "cell_type": "code",
   "execution_count": 53,
   "metadata": {},
   "outputs": [
    {
     "data": {
      "image/png": "[encoded data removed]",
      "text/plain": [
       "<Figure size 432x288 with 1 Axes>"
      ]
     },
     "metadata": {
      "needs_background": "light"
     },
     "output_type": "display_data"
    },
    {
     "data": {
      "text/plain": [
       "<AxesSubplot:xlabel='Samples', ylabel='Counts'>"
      ]
     },
     "execution_count": 53,
     "metadata": {},
     "output_type": "execute_result"
    }
   ],
   "source": [
    "fequence_words.plot(10)"
   ]
  },
  {
   "cell_type": "code",
   "execution_count": 71,
   "metadata": {},
   "outputs": [],
   "source": [
    "import pandas as pd\n",
    "df=pd.read_csv(\"file:///C:/Users/00824732/Downloads/output.csv\")"
   ]
  },
  {
   "cell_type": "code",
   "execution_count": 85,
   "metadata": {},
   "outputs": [
    {
     "data": {
      "text/plain": [
       "Index(['Unnamed: 0', 'review'], dtype='object')"
      ]
     },
     "execution_count": 85,
     "metadata": {},
     "output_type": "execute_result"
    }
   ],
   "source": [
    "df.columns"
   ]
  },
  {
   "cell_type": "code",
   "execution_count": 86,
   "metadata": {},
   "outputs": [
    {
     "data": {
      "text/plain": [
       "pandas.core.series.Series"
      ]
     },
     "execution_count": 86,
     "metadata": {},
     "output_type": "execute_result"
    }
   ],
   "source": [
    "type(df['review'])"
   ]
  },
  {
   "cell_type": "code",
   "execution_count": 72,
   "metadata": {},
   "outputs": [
    {
     "data": {
      "text/html": [
       "<div>\n",
       "<style scoped>\n",
       "    .dataframe tbody tr th:only-of-type {\n",
       "        vertical-align: middle;\n",
       "    }\n",
       "\n",
       "    .dataframe tbody tr th {\n",
       "        vertical-align: top;\n",
       "    }\n",
       "\n",
       "    .dataframe thead th {\n",
       "        text-align: right;\n",
       "    }\n",
       "</style>\n",
       "<table border=\"1\" class=\"dataframe\">\n",
       "  <thead>\n",
       "    <tr style=\"text-align: right;\">\n",
       "      <th></th>\n",
       "      <th>Unnamed: 0</th>\n",
       "      <th>review</th>\n",
       "    </tr>\n",
       "  </thead>\n",
       "  <tbody>\n",
       "    <tr>\n",
       "      <th>0</th>\n",
       "      <td>0</td>\n",
       "      <td>Great product!</td>\n",
       "    </tr>\n",
       "    <tr>\n",
       "      <th>1</th>\n",
       "      <td>1</td>\n",
       "      <td>Not satisfied with the quality.</td>\n",
       "    </tr>\n",
       "    <tr>\n",
       "      <th>2</th>\n",
       "      <td>2</td>\n",
       "      <td>Would recommend to a friend.</td>\n",
       "    </tr>\n",
       "    <tr>\n",
       "      <th>3</th>\n",
       "      <td>3</td>\n",
       "      <td>Haven't seen any improvement yet.</td>\n",
       "    </tr>\n",
       "    <tr>\n",
       "      <th>4</th>\n",
       "      <td>4</td>\n",
       "      <td>It met my expectations.</td>\n",
       "    </tr>\n",
       "  </tbody>\n",
       "</table>\n",
       "</div>"
      ],
      "text/plain": [
       "   Unnamed: 0                             review\n",
       "0           0                     Great product!\n",
       "1           1    Not satisfied with the quality.\n",
       "2           2       Would recommend to a friend.\n",
       "3           3  Haven't seen any improvement yet.\n",
       "4           4            It met my expectations."
      ]
     },
     "execution_count": 72,
     "metadata": {},
     "output_type": "execute_result"
    }
   ],
   "source": [
    "df.head()"
   ]
  },
  {
   "cell_type": "code",
   "execution_count": 81,
   "metadata": {},
   "outputs": [],
   "source": [
    "texts=df['review']"
   ]
  },
  {
   "cell_type": "code",
   "execution_count": 111,
   "metadata": {},
   "outputs": [],
   "source": [
    "## Polairty score\n",
    "def classify_reviews(text,threshold=0.40):\n",
    "    sid=SentimentIntensityAnalyzer()\n",
    "    scores=sid.polarity_scores(text)\n",
    "    score=scores['compound']\n",
    "    if score<=-threshold:\n",
    "        return 'Negative'\n",
    "    elif score>=threshold:\n",
    "        return 'Positive'\n",
    "    else:\n",
    "        return \"netural\""
   ]
  },
  {
   "cell_type": "code",
   "execution_count": 112,
   "metadata": {},
   "outputs": [],
   "source": [
    "df['Sentiment']=df.review.apply(lambda x:classify_reviews(x))"
   ]
  },
  {
   "cell_type": "code",
   "execution_count": 113,
   "metadata": {},
   "outputs": [
    {
     "data": {
      "text/html": [
       "<div>\n",
       "<style scoped>\n",
       "    .dataframe tbody tr th:only-of-type {\n",
       "        vertical-align: middle;\n",
       "    }\n",
       "\n",
       "    .dataframe tbody tr th {\n",
       "        vertical-align: top;\n",
       "    }\n",
       "\n",
       "    .dataframe thead th {\n",
       "        text-align: right;\n",
       "    }\n",
       "</style>\n",
       "<table border=\"1\" class=\"dataframe\">\n",
       "  <thead>\n",
       "    <tr style=\"text-align: right;\">\n",
       "      <th></th>\n",
       "      <th>Sentiment</th>\n",
       "      <th>review</th>\n",
       "    </tr>\n",
       "  </thead>\n",
       "  <tbody>\n",
       "    <tr>\n",
       "      <th>0</th>\n",
       "      <td>Positive</td>\n",
       "      <td>Great product!</td>\n",
       "    </tr>\n",
       "    <tr>\n",
       "      <th>1</th>\n",
       "      <td>netural</td>\n",
       "      <td>Not satisfied with the quality.</td>\n",
       "    </tr>\n",
       "    <tr>\n",
       "      <th>2</th>\n",
       "      <td>Positive</td>\n",
       "      <td>Would recommend to a friend.</td>\n",
       "    </tr>\n",
       "    <tr>\n",
       "      <th>3</th>\n",
       "      <td>netural</td>\n",
       "      <td>Haven't seen any improvement yet.</td>\n",
       "    </tr>\n",
       "    <tr>\n",
       "      <th>4</th>\n",
       "      <td>netural</td>\n",
       "      <td>It met my expectations.</td>\n",
       "    </tr>\n",
       "    <tr>\n",
       "      <th>5</th>\n",
       "      <td>Positive</td>\n",
       "      <td>Very happy with my purchase</td>\n",
       "    </tr>\n",
       "    <tr>\n",
       "      <th>6</th>\n",
       "      <td>Positive</td>\n",
       "      <td>Could be better</td>\n",
       "    </tr>\n",
       "    <tr>\n",
       "      <th>7</th>\n",
       "      <td>Positive</td>\n",
       "      <td>I love it!</td>\n",
       "    </tr>\n",
       "    <tr>\n",
       "      <th>8</th>\n",
       "      <td>netural</td>\n",
       "      <td>Would buy again</td>\n",
       "    </tr>\n",
       "    <tr>\n",
       "      <th>9</th>\n",
       "      <td>netural</td>\n",
       "      <td>Not worth the price</td>\n",
       "    </tr>\n",
       "    <tr>\n",
       "      <th>10</th>\n",
       "      <td>Negative</td>\n",
       "      <td>Disappointed</td>\n",
       "    </tr>\n",
       "    <tr>\n",
       "      <th>11</th>\n",
       "      <td>netural</td>\n",
       "      <td>Meh</td>\n",
       "    </tr>\n",
       "    <tr>\n",
       "      <th>12</th>\n",
       "      <td>Positive</td>\n",
       "      <td>Good value for the money</td>\n",
       "    </tr>\n",
       "    <tr>\n",
       "      <th>13</th>\n",
       "      <td>Positive</td>\n",
       "      <td>Amazing!</td>\n",
       "    </tr>\n",
       "    <tr>\n",
       "      <th>14</th>\n",
       "      <td>Positive</td>\n",
       "      <td>Satisfied</td>\n",
       "    </tr>\n",
       "    <tr>\n",
       "      <th>15</th>\n",
       "      <td>netural</td>\n",
       "      <td>Not as described</td>\n",
       "    </tr>\n",
       "    <tr>\n",
       "      <th>16</th>\n",
       "      <td>Positive</td>\n",
       "      <td>Could have been better</td>\n",
       "    </tr>\n",
       "    <tr>\n",
       "      <th>17</th>\n",
       "      <td>netural</td>\n",
       "      <td>Ehh, okay</td>\n",
       "    </tr>\n",
       "    <tr>\n",
       "      <th>18</th>\n",
       "      <td>Negative</td>\n",
       "      <td>This sucks!</td>\n",
       "    </tr>\n",
       "    <tr>\n",
       "      <th>19</th>\n",
       "      <td>netural</td>\n",
       "      <td>Fanstastic!</td>\n",
       "    </tr>\n",
       "    <tr>\n",
       "      <th>20</th>\n",
       "      <td>Negative</td>\n",
       "      <td>not the best</td>\n",
       "    </tr>\n",
       "  </tbody>\n",
       "</table>\n",
       "</div>"
      ],
      "text/plain": [
       "   Sentiment                             review\n",
       "0   Positive                     Great product!\n",
       "1    netural    Not satisfied with the quality.\n",
       "2   Positive       Would recommend to a friend.\n",
       "3    netural  Haven't seen any improvement yet.\n",
       "4    netural            It met my expectations.\n",
       "5   Positive        Very happy with my purchase\n",
       "6   Positive                    Could be better\n",
       "7   Positive                         I love it!\n",
       "8    netural                    Would buy again\n",
       "9    netural                Not worth the price\n",
       "10  Negative                       Disappointed\n",
       "11   netural                                Meh\n",
       "12  Positive           Good value for the money\n",
       "13  Positive                           Amazing!\n",
       "14  Positive                          Satisfied\n",
       "15   netural                   Not as described\n",
       "16  Positive             Could have been better\n",
       "17   netural                          Ehh, okay\n",
       "18  Negative                        This sucks!\n",
       "19   netural                        Fanstastic!\n",
       "20  Negative                       not the best"
      ]
     },
     "execution_count": 113,
     "metadata": {},
     "output_type": "execute_result"
    }
   ],
   "source": [
    "df[['Sentiment','review']]"
   ]
  },
  {
   "cell_type": "code",
   "execution_count": 109,
   "metadata": {},
   "outputs": [],
   "source": [
    "import matplotlib.pyplot as plt\n",
    "import warnings\n",
    "warnings.filterwarnings('ignore')\n"
   ]
  },
  {
   "cell_type": "code",
   "execution_count": 115,
   "metadata": {},
   "outputs": [],
   "source": [
    "def function_convert(x):\n",
    "    if x=='Negative':\n",
    "        return 0\n",
    "    elif x=='Positive':\n",
    "        return 1\n",
    "    else:\n",
    "        pass"
   ]
  },
  {
   "cell_type": "code",
   "execution_count": 118,
   "metadata": {},
   "outputs": [],
   "source": [
    "df['sentiment_classifiation']=df['Sentiment'].apply(lambda x:function_convert(x))"
   ]
  },
  {
   "cell_type": "code",
   "execution_count": 124,
   "metadata": {},
   "outputs": [],
   "source": [
    "df['sentiment_class']=df['sentiment_classifiation'].dropna()"
   ]
  },
  {
   "cell_type": "code",
   "execution_count": 128,
   "metadata": {},
   "outputs": [
    {
     "data": {
      "text/plain": [
       "Index(['Unnamed: 0', 'review', 'Sentiment', 'sentiment_classifiation',\n",
       "       'sentiment_class'],\n",
       "      dtype='object')"
      ]
     },
     "execution_count": 128,
     "metadata": {},
     "output_type": "execute_result"
    }
   ],
   "source": [
    "df.columns"
   ]
  },
  {
   "cell_type": "code",
   "execution_count": 133,
   "metadata": {},
   "outputs": [
    {
     "data": {
      "image/png": "[encoded data removed]",
      "text/plain": [
       "<Figure size 432x288 with 1 Axes>"
      ]
     },
     "metadata": {
      "needs_background": "light"
     },
     "output_type": "display_data"
    }
   ],
   "source": [
    "# plt.rcParams['figure.figsize']=[7.5,3]\n",
    "# plt.rcParams('figure.autolayout')=True\n",
    "sns.barplot(df['sentiment_class'],df['Sentiment'])\n",
    "plt.show()"
   ]
  },
  {
   "cell_type": "code",
   "execution_count": 125,
   "metadata": {},
   "outputs": [
    {
     "data": {
      "text/html": [
       "<div>\n",
       "<style scoped>\n",
       "    .dataframe tbody tr th:only-of-type {\n",
       "        vertical-align: middle;\n",
       "    }\n",
       "\n",
       "    .dataframe tbody tr th {\n",
       "        vertical-align: top;\n",
       "    }\n",
       "\n",
       "    .dataframe thead th {\n",
       "        text-align: right;\n",
       "    }\n",
       "</style>\n",
       "<table border=\"1\" class=\"dataframe\">\n",
       "  <thead>\n",
       "    <tr style=\"text-align: right;\">\n",
       "      <th></th>\n",
       "      <th>Unnamed: 0</th>\n",
       "      <th>review</th>\n",
       "      <th>Sentiment</th>\n",
       "      <th>sentiment_classifiation</th>\n",
       "      <th>sentiment_class</th>\n",
       "    </tr>\n",
       "  </thead>\n",
       "  <tbody>\n",
       "    <tr>\n",
       "      <th>0</th>\n",
       "      <td>0</td>\n",
       "      <td>Great product!</td>\n",
       "      <td>Positive</td>\n",
       "      <td>1.0</td>\n",
       "      <td>1.0</td>\n",
       "    </tr>\n",
       "    <tr>\n",
       "      <th>1</th>\n",
       "      <td>1</td>\n",
       "      <td>Not satisfied with the quality.</td>\n",
       "      <td>netural</td>\n",
       "      <td>NaN</td>\n",
       "      <td>NaN</td>\n",
       "    </tr>\n",
       "    <tr>\n",
       "      <th>2</th>\n",
       "      <td>2</td>\n",
       "      <td>Would recommend to a friend.</td>\n",
       "      <td>Positive</td>\n",
       "      <td>1.0</td>\n",
       "      <td>1.0</td>\n",
       "    </tr>\n",
       "    <tr>\n",
       "      <th>3</th>\n",
       "      <td>3</td>\n",
       "      <td>Haven't seen any improvement yet.</td>\n",
       "      <td>netural</td>\n",
       "      <td>NaN</td>\n",
       "      <td>NaN</td>\n",
       "    </tr>\n",
       "    <tr>\n",
       "      <th>4</th>\n",
       "      <td>4</td>\n",
       "      <td>It met my expectations.</td>\n",
       "      <td>netural</td>\n",
       "      <td>NaN</td>\n",
       "      <td>NaN</td>\n",
       "    </tr>\n",
       "  </tbody>\n",
       "</table>\n",
       "</div>"
      ],
      "text/plain": [
       "   Unnamed: 0                             review Sentiment  \\\n",
       "0           0                     Great product!  Positive   \n",
       "1           1    Not satisfied with the quality.   netural   \n",
       "2           2       Would recommend to a friend.  Positive   \n",
       "3           3  Haven't seen any improvement yet.   netural   \n",
       "4           4            It met my expectations.   netural   \n",
       "\n",
       "   sentiment_classifiation  sentiment_class  \n",
       "0                      1.0              1.0  \n",
       "1                      NaN              NaN  \n",
       "2                      1.0              1.0  \n",
       "3                      NaN              NaN  \n",
       "4                      NaN              NaN  "
      ]
     },
     "execution_count": 125,
     "metadata": {},
     "output_type": "execute_result"
    }
   ],
   "source": [
    "df.head()"
   ]
  },
  {
   "cell_type": "code",
   "execution_count": 110,
   "metadata": {},
   "outputs": [
    {
     "data": {
      "image/png": "[encoded data removed]",
      "text/plain": [
       "<Figure size 432x288 with 1 Axes>"
      ]
     },
     "metadata": {
      "needs_background": "light"
     },
     "output_type": "display_data"
    }
   ],
   "source": [
    "sns.countplot(df['Sentiment'])\n",
    "plt.show()"
   ]
  },
  {
   "cell_type": "code",
   "execution_count": 139,
   "metadata": {},
   "outputs": [],
   "source": [
    "x=df['sentiment_class']\n",
    "y=df['review']"
   ]
  },
  {
   "cell_type": "code",
   "execution_count": 140,
   "metadata": {},
   "outputs": [
    {
     "data": {
      "text/plain": [
       "<AxesSubplot:xlabel='sentiment_class', ylabel='Density'>"
      ]
     },
     "execution_count": 140,
     "metadata": {},
     "output_type": "execute_result"
    },
    {
     "data": {
      "image/png": "[encoded data removed]",
      "text/plain": [
       "<Figure size 432x288 with 1 Axes>"
      ]
     },
     "metadata": {
      "needs_background": "light"
     },
     "output_type": "display_data"
    }
   ],
   "source": [
    "sns.distplot(df['sentiment_class'])"
   ]
  },
  {
   "cell_type": "code",
   "execution_count": 146,
   "metadata": {},
   "outputs": [
    {
     "name": "stdout",
     "output_type": "stream",
     "text": [
      "Collecting wordcloud\n",
      "  Using cached wordcloud-1.8.2.2-cp39-cp39-win_amd64.whl (153 kB)\n",
      "Requirement already satisfied: numpy>=1.6.1 in c:\\users\\00824732\\anaconda3\\lib\\site-packages (from wordcloud) (1.20.3)\n",
      "Requirement already satisfied: matplotlib in c:\\users\\00824732\\anaconda3\\lib\\site-packages (from wordcloud) (3.4.3)\n",
      "Requirement already satisfied: pillow in c:\\users\\00824732\\anaconda3\\lib\\site-packages (from wordcloud) (8.4.0)\n",
      "Requirement already satisfied: kiwisolver>=1.0.1 in c:\\users\\00824732\\anaconda3\\lib\\site-packages (from matplotlib->wordcloud) (1.3.1)\n",
      "Requirement already satisfied: pyparsing>=2.2.1 in c:\\users\\00824732\\anaconda3\\lib\\site-packages (from matplotlib->wordcloud) (3.0.4)\n",
      "Requirement already satisfied: cycler>=0.10 in c:\\users\\00824732\\anaconda3\\lib\\site-packages (from matplotlib->wordcloud) (0.10.0)\n",
      "Requirement already satisfied: python-dateutil>=2.7 in c:\\users\\00824732\\anaconda3\\lib\\site-packages (from matplotlib->wordcloud) (2.8.2)\n",
      "Requirement already satisfied: six in c:\\users\\00824732\\anaconda3\\lib\\site-packages (from cycler>=0.10->matplotlib->wordcloud) (1.16.0)\n",
      "Installing collected packages: wordcloud\n",
      "Successfully installed wordcloud-1.8.2.2\n"
     ]
    }
   ],
   "source": [
    "!pip3 install wordcloud"
   ]
  },
  {
   "cell_type": "code",
   "execution_count": 148,
   "metadata": {},
   "outputs": [],
   "source": [
    "## wordcloud\n",
    "import wordcloud\n",
    "from wordcloud import WordCloud,STOPWORDS"
   ]
  },
  {
   "cell_type": "code",
   "execution_count": 152,
   "metadata": {},
   "outputs": [],
   "source": [
    "texts=str(texts)"
   ]
  },
  {
   "cell_type": "code",
   "execution_count": 164,
   "metadata": {},
   "outputs": [
    {
     "data": {
      "image/png": "[encoded data removed]",
      "text/plain": [
       "<Figure size 432x288 with 1 Axes>"
      ]
     },
     "metadata": {
      "needs_background": "light"
     },
     "output_type": "display_data"
    }
   ],
   "source": [
    "wordcloud=WordCloud(max_font_size=1000,background_color=\"red\",max_words=30).generate(texts)\n",
    "plt.imshow(wordcloud,interpolation='bilinear')\n",
    "plt.axis(\"off\")\n",
    "plt.show()"
   ]
  },
  {
   "cell_type": "code",
   "execution_count": 165,
   "metadata": {},
   "outputs": [
    {
     "data": {
      "text/html": [
       "<div>\n",
       "<style scoped>\n",
       "    .dataframe tbody tr th:only-of-type {\n",
       "        vertical-align: middle;\n",
       "    }\n",
       "\n",
       "    .dataframe tbody tr th {\n",
       "        vertical-align: top;\n",
       "    }\n",
       "\n",
       "    .dataframe thead th {\n",
       "        text-align: right;\n",
       "    }\n",
       "</style>\n",
       "<table border=\"1\" class=\"dataframe\">\n",
       "  <thead>\n",
       "    <tr style=\"text-align: right;\">\n",
       "      <th></th>\n",
       "      <th>Unnamed: 0</th>\n",
       "      <th>review</th>\n",
       "      <th>Sentiment</th>\n",
       "      <th>sentiment_classifiation</th>\n",
       "      <th>sentiment_class</th>\n",
       "    </tr>\n",
       "  </thead>\n",
       "  <tbody>\n",
       "    <tr>\n",
       "      <th>0</th>\n",
       "      <td>0</td>\n",
       "      <td>Great product!</td>\n",
       "      <td>Positive</td>\n",
       "      <td>1.0</td>\n",
       "      <td>1.0</td>\n",
       "    </tr>\n",
       "    <tr>\n",
       "      <th>1</th>\n",
       "      <td>1</td>\n",
       "      <td>Not satisfied with the quality.</td>\n",
       "      <td>netural</td>\n",
       "      <td>NaN</td>\n",
       "      <td>NaN</td>\n",
       "    </tr>\n",
       "    <tr>\n",
       "      <th>2</th>\n",
       "      <td>2</td>\n",
       "      <td>Would recommend to a friend.</td>\n",
       "      <td>Positive</td>\n",
       "      <td>1.0</td>\n",
       "      <td>1.0</td>\n",
       "    </tr>\n",
       "    <tr>\n",
       "      <th>3</th>\n",
       "      <td>3</td>\n",
       "      <td>Haven't seen any improvement yet.</td>\n",
       "      <td>netural</td>\n",
       "      <td>NaN</td>\n",
       "      <td>NaN</td>\n",
       "    </tr>\n",
       "    <tr>\n",
       "      <th>4</th>\n",
       "      <td>4</td>\n",
       "      <td>It met my expectations.</td>\n",
       "      <td>netural</td>\n",
       "      <td>NaN</td>\n",
       "      <td>NaN</td>\n",
       "    </tr>\n",
       "  </tbody>\n",
       "</table>\n",
       "</div>"
      ],
      "text/plain": [
       "   Unnamed: 0                             review Sentiment  \\\n",
       "0           0                     Great product!  Positive   \n",
       "1           1    Not satisfied with the quality.   netural   \n",
       "2           2       Would recommend to a friend.  Positive   \n",
       "3           3  Haven't seen any improvement yet.   netural   \n",
       "4           4            It met my expectations.   netural   \n",
       "\n",
       "   sentiment_classifiation  sentiment_class  \n",
       "0                      1.0              1.0  \n",
       "1                      NaN              NaN  \n",
       "2                      1.0              1.0  \n",
       "3                      NaN              NaN  \n",
       "4                      NaN              NaN  "
      ]
     },
     "execution_count": 165,
     "metadata": {},
     "output_type": "execute_result"
    }
   ],
   "source": [
    "df.head()"
   ]
  },
  {
   "cell_type": "code",
   "execution_count": 235,
   "metadata": {},
   "outputs": [],
   "source": [
    "x1=pd.get_dummies(x['Sentiment'],prefix='Review_')"
   ]
  },
  {
   "cell_type": "code",
   "execution_count": 215,
   "metadata": {},
   "outputs": [],
   "source": [
    "x=df[['Sentiment']]\n",
    "y=df['sentiment_class']"
   ]
  },
  {
   "cell_type": "code",
   "execution_count": 231,
   "metadata": {},
   "outputs": [],
   "source": [
    "x1=x[0:12]\n",
    "y=y[0:12]"
   ]
  },
  {
   "cell_type": "code",
   "execution_count": 237,
   "metadata": {},
   "outputs": [],
   "source": [
    "x_train,x_test,y_train,y_test=train_test_split(x1,y)"
   ]
  },
  {
   "cell_type": "code",
   "execution_count": 238,
   "metadata": {},
   "outputs": [
    {
     "data": {
      "text/html": [
       "<div>\n",
       "<style scoped>\n",
       "    .dataframe tbody tr th:only-of-type {\n",
       "        vertical-align: middle;\n",
       "    }\n",
       "\n",
       "    .dataframe tbody tr th {\n",
       "        vertical-align: top;\n",
       "    }\n",
       "\n",
       "    .dataframe thead th {\n",
       "        text-align: right;\n",
       "    }\n",
       "</style>\n",
       "<table border=\"1\" class=\"dataframe\">\n",
       "  <thead>\n",
       "    <tr style=\"text-align: right;\">\n",
       "      <th></th>\n",
       "      <th>Review__Negative</th>\n",
       "      <th>Review__Positive</th>\n",
       "      <th>Review__netural</th>\n",
       "    </tr>\n",
       "  </thead>\n",
       "  <tbody>\n",
       "    <tr>\n",
       "      <th>0</th>\n",
       "      <td>0</td>\n",
       "      <td>1</td>\n",
       "      <td>0</td>\n",
       "    </tr>\n",
       "    <tr>\n",
       "      <th>1</th>\n",
       "      <td>0</td>\n",
       "      <td>0</td>\n",
       "      <td>1</td>\n",
       "    </tr>\n",
       "    <tr>\n",
       "      <th>2</th>\n",
       "      <td>0</td>\n",
       "      <td>1</td>\n",
       "      <td>0</td>\n",
       "    </tr>\n",
       "    <tr>\n",
       "      <th>3</th>\n",
       "      <td>0</td>\n",
       "      <td>0</td>\n",
       "      <td>1</td>\n",
       "    </tr>\n",
       "    <tr>\n",
       "      <th>4</th>\n",
       "      <td>0</td>\n",
       "      <td>0</td>\n",
       "      <td>1</td>\n",
       "    </tr>\n",
       "  </tbody>\n",
       "</table>\n",
       "</div>"
      ],
      "text/plain": [
       "   Review__Negative  Review__Positive  Review__netural\n",
       "0                 0                 1                0\n",
       "1                 0                 0                1\n",
       "2                 0                 1                0\n",
       "3                 0                 0                1\n",
       "4                 0                 0                1"
      ]
     },
     "execution_count": 238,
     "metadata": {},
     "output_type": "execute_result"
    }
   ],
   "source": [
    "x1.head()\n",
    "y.dropna(inplace=True)"
   ]
  },
  {
   "cell_type": "code",
   "execution_count": 189,
   "metadata": {},
   "outputs": [],
   "source": [
    "from sklearn.model_selection import train_test_split\n",
    "from sklearn.linear_model import LogisticRegression\n",
    "from sklearn.naive_bayes import MultinomialNB"
   ]
  },
  {
   "cell_type": "code",
   "execution_count": 223,
   "metadata": {},
   "outputs": [],
   "source": [
    "y=y.astype('int16')"
   ]
  },
  {
   "cell_type": "code",
   "execution_count": 226,
   "metadata": {},
   "outputs": [
    {
     "data": {
      "text/plain": [
       "0    1\n",
       "2    1\n",
       "5    1\n",
       "6    1\n",
       "7    1\n",
       "Name: sentiment_class, dtype: int16"
      ]
     },
     "execution_count": 226,
     "metadata": {},
     "output_type": "execute_result"
    }
   ],
   "source": [
    "y.head()"
   ]
  },
  {
   "cell_type": "code",
   "execution_count": 239,
   "metadata": {},
   "outputs": [
    {
     "data": {
      "text/plain": [
       "LogisticRegression()"
      ]
     },
     "execution_count": 239,
     "metadata": {},
     "output_type": "execute_result"
    }
   ],
   "source": [
    "lr=LogisticRegression()\n",
    "lr.fit(x_train,y_train)"
   ]
  },
  {
   "cell_type": "code",
   "execution_count": 241,
   "metadata": {},
   "outputs": [
    {
     "data": {
      "text/plain": [
       "77.77777777777779"
      ]
     },
     "execution_count": 241,
     "metadata": {},
     "output_type": "execute_result"
    }
   ],
   "source": [
    "lr.score(x_train,y_train)*100"
   ]
  },
  {
   "cell_type": "code",
   "execution_count": 243,
   "metadata": {},
   "outputs": [
    {
     "data": {
      "text/plain": [
       "66.66666666666666"
      ]
     },
     "execution_count": 243,
     "metadata": {},
     "output_type": "execute_result"
    }
   ],
   "source": [
    "lr.score(x_test,y_test)*100"
   ]
  },
  {
   "cell_type": "code",
   "execution_count": 245,
   "metadata": {},
   "outputs": [],
   "source": [
    "from sklearn.tree import DecisionTreeClassifier"
   ]
  },
  {
   "cell_type": "code",
   "execution_count": 246,
   "metadata": {},
   "outputs": [
    {
     "data": {
      "text/plain": [
       "DecisionTreeClassifier()"
      ]
     },
     "execution_count": 246,
     "metadata": {},
     "output_type": "execute_result"
    }
   ],
   "source": [
    "dc=DecisionTreeClassifier()\n",
    "dc.fit(x_train,y_train)"
   ]
  },
  {
   "cell_type": "code",
   "execution_count": 250,
   "metadata": {},
   "outputs": [],
   "source": [
    "from sklearn.linear_model import Lasso"
   ]
  },
  {
   "cell_type": "code",
   "execution_count": 251,
   "metadata": {},
   "outputs": [
    {
     "data": {
      "text/plain": [
       "Lasso()"
      ]
     },
     "execution_count": 251,
     "metadata": {},
     "output_type": "execute_result"
    }
   ],
   "source": [
    "ls=Lasso()\n",
    "ls.fit(x_train,y_train)"
   ]
  },
  {
   "cell_type": "code",
   "execution_count": 254,
   "metadata": {},
   "outputs": [
    {
     "data": {
      "text/plain": [
       "-0.05555555555555536"
      ]
     },
     "execution_count": 254,
     "metadata": {},
     "output_type": "execute_result"
    }
   ],
   "source": [
    "ls.score(x_test,y_test)"
   ]
  },
  {
   "cell_type": "code",
   "execution_count": 247,
   "metadata": {},
   "outputs": [
    {
     "data": {
      "text/plain": [
       "0.7777777777777778"
      ]
     },
     "execution_count": 247,
     "metadata": {},
     "output_type": "execute_result"
    }
   ],
   "source": [
    "dc.score(x_train,y_train)"
   ]
  },
  {
   "cell_type": "code",
   "execution_count": 248,
   "metadata": {},
   "outputs": [
    {
     "data": {
      "text/plain": [
       "MultinomialNB()"
      ]
     },
     "execution_count": 248,
     "metadata": {},
     "output_type": "execute_result"
    }
   ],
   "source": [
    "MB=MultinomialNB()\n",
    "MB.fit(x_train,y_train)"
   ]
  },
  {
   "cell_type": "code",
   "execution_count": 249,
   "metadata": {},
   "outputs": [
    {
     "data": {
      "text/plain": [
       "0.7777777777777778"
      ]
     },
     "execution_count": 249,
     "metadata": {},
     "output_type": "execute_result"
    }
   ],
   "source": [
    "MB.score(x_train,y_train)"
   ]
  },
  {
   "cell_type": "code",
   "execution_count": 256,
   "metadata": {},
   "outputs": [],
   "source": [
    "y_pred=lr.predict(x_test)"
   ]
  },
  {
   "cell_type": "code",
   "execution_count": 260,
   "metadata": {},
   "outputs": [],
   "source": [
    "from sklearn.metrics import confusion_matrix,accuracy_score,classification_report,ConfusionMatrixDisplay"
   ]
  },
  {
   "cell_type": "code",
   "execution_count": 263,
   "metadata": {},
   "outputs": [
    {
     "name": "stdout",
     "output_type": "stream",
     "text": [
      "              precision    recall  f1-score   support\n",
      "\n",
      "           0       0.00      0.00      0.00         0\n",
      "           1       1.00      0.67      0.80         3\n",
      "\n",
      "    accuracy                           0.67         3\n",
      "   macro avg       0.50      0.33      0.40         3\n",
      "weighted avg       1.00      0.67      0.80         3\n",
      "\n"
     ]
    }
   ],
   "source": [
    "cm=confusion_matrix(y_pred,y_test)\n",
    "print(classification_report(y_pred,y_test))"
   ]
  },
  {
   "cell_type": "code",
   "execution_count": 267,
   "metadata": {},
   "outputs": [
    {
     "data": {
      "image/png": "[encoded data removed]",
      "text/plain": [
       "<Figure size 432x288 with 2 Axes>"
      ]
     },
     "metadata": {
      "needs_background": "light"
     },
     "output_type": "display_data"
    }
   ],
   "source": [
    "disp=ConfusionMatrixDisplay(cm,display_labels=lr.classes_)\n",
    "disp.plot()\n",
    "plt.show()"
   ]
  },
  {
   "cell_type": "code",
   "execution_count": null,
   "metadata": {},
   "outputs": [],
   "source": [
    "import pickle\n",
    "files=pickle.load(files,\"rb\")"
   ]
  },
  {
   "cell_type": "code",
   "execution_count": null,
   "metadata": {},
   "outputs": [],
   "source": [
    "## Flask and Django"
   ]
  },
  {
   "cell_type": "code",
   "execution_count": null,
   "metadata": {},
   "outputs": [],
   "source": [
    "## ROC AND AUC\n",
    "## BOOSTING - XGBOOST AND LIGHTBOOST AND ADABOOST\n",
    "## frequent pattern match\n",
    "## A/B TESTING\n",
    "## Hyper parameter tuning: Decision and Random Forest\n",
    "## TIMESERIES FORECASTING- ARIMA,SARIMAX,PDQ, DICKEY FULLER TEST AND HYDER PARAMETER TUNINGS"
   ]
  }
 ],
 "metadata": {
  "kernelspec": {
   "display_name": "base",
   "language": "python",
   "name": "python3"
  },
  "language_info": {
   "codemirror_mode": {
    "name": "ipython",
    "version": 3
   },
   "file_extension": ".py",
   "mimetype": "text/x-python",
   "name": "python",
   "nbconvert_exporter": "python",
   "pygments_lexer": "ipython3",
   "version": "3.9.7 (default, Sep 16 2021, 16:59:28) [MSC v.1916 64 bit (AMD64)]"
  },
  "orig_nbformat": 4,
  "vscode": {
   "interpreter": {
    "hash": "14b6b7701f4507eada5e009a7e7322500c0468026c79f65d8d145c0cdb7cab80"
   }
  }
 },
 "nbformat": 4,
 "nbformat_minor": 2
}
